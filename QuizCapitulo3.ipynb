{
  "nbformat": 4,
  "nbformat_minor": 0,
  "metadata": {
    "colab": {
      "provenance": []
    },
    "kernelspec": {
      "name": "python3",
      "display_name": "Python 3"
    },
    "language_info": {
      "name": "python"
    }
  },
  "cells": [
    {
      "cell_type": "markdown",
      "source": [
        "Q17-01 Escreva um programa que recebe dois pontos no plano cartesiano, (x1, y1) e (x2, y2) e imprime a distância entre esses 2 pontos."
      ],
      "metadata": {
        "id": "LHblYzWOY8E6"
      }
    },
    {
      "cell_type": "code",
      "execution_count": 5,
      "metadata": {
        "colab": {
          "base_uri": "https://localhost:8080/"
        },
        "id": "PutclP0IY3I-",
        "outputId": "73f86947-2d02-4837-b38d-7e920a81da3e"
      },
      "outputs": [
        {
          "output_type": "stream",
          "name": "stdout",
          "text": [
            "Insira a coordenada de x1:1\n",
            "Insira a coordenada de y1:1\n",
            "Insira a coordenada de x2:1\n",
            "Insira a coordenada de y2:4\n",
            "A distancia entre as coordenadas p1(1, 1) e p2(1, 4) é de 3.0\n"
          ]
        }
      ],
      "source": [
        "# Define a função 'distancia' que calcula a distância entre dois pontos em um plano cartesiano.\n",
        "def distancia(p1, p2):\n",
        "    # Calcula a distância entre os dois pontos usando a fórmula da distância euclidiana.\n",
        "    # A fórmula é: √((x2 - x1)² + (y2 - y1)²)\n",
        "    dist = ((p2[0] - p1[0]) ** 2 + (p2[1] - p1[1]) ** 2) ** (1/2)\n",
        "\n",
        "    # Exibe a distância calculada entre os dois pontos (p1 e p2), formatando a saída de acordo com as coordenadas.\n",
        "    print('A distancia entre as coordenadas p1({}, {}) e p2({}, {}) é de {}'.format(p1[0], p1[1], p2[0], p2[1], dist))\n",
        "\n",
        "# Solicita ao usuário que insira as coordenadas x1 e y1 do primeiro ponto.\n",
        "x1 = int(input('Insira a coordenada de x1:'))\n",
        "\n",
        "# Solicita ao usuário que insira as coordenadas y1 do primeiro ponto.\n",
        "y1 = int(input('Insira a coordenada de y1:'))\n",
        "\n",
        "# Solicita ao usuário que insira as coordenadas x2 do segundo ponto.\n",
        "x2 = int(input('Insira a coordenada de x2:'))\n",
        "\n",
        "# Solicita ao usuário que insira as coordenadas y2 do segundo ponto.\n",
        "y2 = int(input('Insira a coordenada de y2:'))\n",
        "\n",
        "# Armazena as coordenadas (x1, y1) como o primeiro ponto p1.\n",
        "p1 = [x1, y1]\n",
        "\n",
        "# Armazena as coordenadas (x2, y2) como o segundo ponto p2.\n",
        "p2 = [x2, y2]\n",
        "\n",
        "# Chama a função 'distancia' para calcular e exibir a distância entre p1 e p2.\n",
        "distancia(p1, p2)"
      ]
    },
    {
      "cell_type": "markdown",
      "source": [
        "Q18-01 Um palíndromo é uma frase ou palavra que se lê da mesma forma da esquerda pra direita e vice-e-versa. Por exemplo: radar.\n",
        "Escreva um programa que usa uma função recursiva para determinar se uma string é um palíndromo ou não."
      ],
      "metadata": {
        "id": "bb7Ng6X_ZCrc"
      }
    },
    {
      "cell_type": "code",
      "source": [
        "# Define a função 'palindromo' que verifica recursivamente se uma palavra é um palíndromo.\n",
        "def palindromo(inicio, tamanho, palavra):\n",
        "\n",
        "    # Verificação especial: Se a palavra for vazia, consideramos como um palíndromo automaticamente.\n",
        "    # Tecnicamente, uma string vazia pode ser vista como palíndromo, já que não há caracteres a serem comparados.\n",
        "    if tamanho == 0:\n",
        "        return print('A palavra é Palíndromo')\n",
        "\n",
        "    # Caso base 1: Se o tamanho da palavra for 1, sabemos que é palíndromo,\n",
        "    # pois qualquer palavra de uma única letra é lida da mesma forma em ambas as direções.\n",
        "    if tamanho == 1:\n",
        "        return print('A palavra {} é Palíndromo'.format(palavra))\n",
        "\n",
        "    # Caso recursivo: Quando o tamanho for maior que 1, começamos a verificar os caracteres da palavra.\n",
        "    # Verificamos se o caractere no índice 'inicio' (primeiro caractere da palavra) é igual ao caractere\n",
        "    # no índice 'tamanho - 1' (último caractere da palavra).\n",
        "    if palavra[inicio] == palavra[tamanho - 1]:\n",
        "\n",
        "        # Se os dois caracteres forem iguais, avançamos na verificação:\n",
        "        # - 'inicio' é incrementado para verificar o próximo caractere no início.\n",
        "        # - 'tamanho' é decrementado para verificar o próximo caractere no final.\n",
        "        # - Chamamos a função novamente, de forma recursiva, com os valores atualizados.\n",
        "        return palindromo(inicio + 1, tamanho - 1, palavra)\n",
        "\n",
        "    else:\n",
        "        # Se em qualquer ponto os caracteres não forem iguais, sabemos que a palavra não é um palíndromo.\n",
        "        # Imprimimos essa informação e interrompemos a recursão.\n",
        "        return print('A palavra {} não é Palíndromo'.format(palavra))\n",
        "\n",
        "# Solicita ao usuário que insira uma palavra para verificar se é palíndromo.\n",
        "# Usamos o método 'input' para capturar a entrada do usuário.\n",
        "\n",
        "# Antes de processar a palavra, fazemos uma normalização:\n",
        "# - 'replace(\" \", \"\")' remove todos os espaços da palavra, garantindo que frases sejam analisadas sem os espaços.\n",
        "# - 'lower()' converte todos os caracteres para letras minúsculas, para que a verificação ignore diferenças de maiúsculas e minúsculas.\n",
        "palavra = input('Digite uma palavra: ').replace(\" \", \"\").lower()\n",
        "\n",
        "# Calculamos o tamanho da palavra (após a normalização) usando 'len'.\n",
        "# Esse valor é usado para definir os limites das comparações na função recursiva.\n",
        "tamanho = len(palavra)\n",
        "\n",
        "# Chamamos a função 'palindromo', passando os parâmetros:\n",
        "# - '0' como ponto inicial (índice da primeira letra),\n",
        "# - 'tamanho' como o limite superior (o índice da última letra),\n",
        "# - e a palavra normalizada.\n",
        "palindromo(0, tamanho, palavra)"
      ],
      "metadata": {
        "colab": {
          "base_uri": "https://localhost:8080/"
        },
        "id": "7pViJFKRZGOd",
        "outputId": "165c19b0-21c4-4579-98e4-a35f8802ae5f"
      },
      "execution_count": 18,
      "outputs": [
        {
          "output_type": "stream",
          "name": "stdout",
          "text": [
            "Digite uma palavra: radar\n",
            "A palavra radar é Palíndromo\n"
          ]
        }
      ]
    },
    {
      "cell_type": "markdown",
      "source": [
        "Q19-01 Escreva um programa que usa a função map() para realizar operações de multiplicação com os itens da lista n_list = [10, 20, 30]. O programa deve imprimir 2x e 3x os valores de n_list."
      ],
      "metadata": {
        "id": "LdKrwn2nZGo8"
      }
    },
    {
      "cell_type": "code",
      "source": [
        "# Define uma lista chamada 'n_list' contendo três números: 10, 20 e 30.\n",
        "n_list = [10, 20, 30]\n",
        "\n",
        "# Usa a função 'map' para aplicar uma função lambda (anônima) a cada elemento de 'n_list'.\n",
        "# A função lambda recebe um parâmetro 'x' e retorna o valor de 'x' multiplicado por 2.\n",
        "# O 'map' aplica essa função a cada elemento da lista, resultando em uma nova lista com os valores dobrados.\n",
        "# A função 'list' converte o resultado de 'map' (um objeto iterável) em uma lista.\n",
        "multiplica2 = list(map(lambda x: x * 2, n_list))\n",
        "\n",
        "# Similar ao exemplo anterior, a função 'map' aplica uma função lambda a cada elemento de 'n_list'.\n",
        "# Desta vez, a função lambda retorna o valor de 'x' multiplicado por 3.\n",
        "# Novamente, o resultado de 'map' é convertido em uma lista que contém os valores multiplicados por 3.\n",
        "multiplica3 = list(map(lambda x: x * 3, n_list))\n",
        "\n",
        "# Imprime a lista 'multiplica2', que contém os valores da lista original multiplicados por 2.\n",
        "# Para 'n_list' = [10, 20, 30], o resultado impresso será: [20, 40, 60].\n",
        "print(multiplica2)\n",
        "\n",
        "# Imprime a lista 'multiplica3', que contém os valores da lista original multiplicados por 3.\n",
        "# Para 'n_list' = [10, 20, 30], o resultado impresso será: [30, 60, 90].\n",
        "print(multiplica3)"
      ],
      "metadata": {
        "colab": {
          "base_uri": "https://localhost:8080/"
        },
        "id": "vdBCF2x9ZOpE",
        "outputId": "c9611a9a-a334-430e-8ff8-f32d674a3368"
      },
      "execution_count": 20,
      "outputs": [
        {
          "output_type": "stream",
          "name": "stdout",
          "text": [
            "[20, 40, 60]\n",
            "[30, 60, 90]\n"
          ]
        }
      ]
    },
    {
      "cell_type": "markdown",
      "source": [
        "Q20-01\n",
        "\n",
        "```\n",
        "Considere o código a seguir:\n",
        "\n",
        "def calc_digit(n):\n",
        "    def final(digit):\n",
        "        return digit**n\n",
        "    return final\n",
        "num_list = []\n",
        "for num in range(1, 6):\n",
        "    num_list.append(calc_digit(num))\n",
        "    prtin(num_list[num - 1](num))\n",
        "\n",
        "1\n",
        "4\n",
        "27\n",
        "256\n",
        "3125\n",
        "Calcule o resultado do código manualmente.\n",
        "```\n",
        "\n"
      ],
      "metadata": {
        "id": "8v462iduZP5F"
      }
    },
    {
      "cell_type": "markdown",
      "source": [
        "Vamos agora calcular manualmente o que acontece para cada iteração do laço:\n",
        "\n",
        "Iteração 1 (num = 1):\n",
        "\n",
        "calc_digit(1) cria uma função que eleva qualquer número à potência 1.\n",
        "A função criada é armazenada em num_list[0].\n",
        "num_list significa elevar 1 à potência 1, o que resulta em 1.\n",
        "Resultado impresso: 1.\n",
        "Iteração 2 (num = 2):\n",
        "\n",
        "calc_digit(2) cria uma função que eleva qualquer número à potência 2.\n",
        "A função criada é armazenada em num_list[1].\n",
        "num_list significa elevar 2 à potência 2, o que resulta em 4.\n",
        "Resultado impresso: 4.\n",
        "Iteração 3 (num = 3):\n",
        "\n",
        "calc_digit(3) cria uma função que eleva qualquer número à potência 3.\n",
        "A função criada é armazenada em num_list[2].\n",
        "num_list significa elevar 3 à potência 3, o que resulta em 27.\n",
        "Resultado impresso: 27.\n",
        "Iteração 4 (num = 4):\n",
        "\n",
        "calc_digit(4) cria uma função que eleva qualquer número à potência 4.\n",
        "A função criada é armazenada em num_list[3].\n",
        "num_list significa elevar 4 à potência 4, o que resulta em 256.\n",
        "Resultado impresso: 256.\n",
        "Iteração 5 (num = 5):\n",
        "\n",
        "calc_digit(5) cria uma função que eleva qualquer número à potência 5.\n",
        "A função criada é armazenada em num_list[4].\n",
        "num_list significa elevar 5 à potência 5, o que resulta em 3125.\n",
        "Resultado impresso: 3125."
      ],
      "metadata": {
        "id": "di_WNVRN4Y0T"
      }
    },
    {
      "cell_type": "markdown",
      "source": [
        "Q21-01 Escreva um programa que faz multiplicação (*) e divisão (/) usando os métodos __mul__ e __truediv__ aprendidos na unidade 21. Assumindo que v1 = (30, 40) e v2 = (10, 20), codifique (escreva a declaração de saída) para retornar a saída abaixo como resultado da multiplicação e divisão de dois vetores.\n",
        "\n",
        "v1 * v2 = (300, 800)\n",
        "v1 / v2 = (3.0, 2.0)"
      ],
      "metadata": {
        "id": "gj_az0xgaX0G"
      }
    },
    {
      "cell_type": "code",
      "source": [
        "# Define a classe 'Vector2D', que representa um vetor em duas dimensões (x, y).\n",
        "class Vector2D:\n",
        "\n",
        "    # O método '__init__' é o construtor da classe. Ele inicializa os atributos 'x' e 'y' do objeto\n",
        "    # com os valores fornecidos ao criar uma instância da classe.\n",
        "    def __init__(self, x, y):\n",
        "        self.x = x\n",
        "        self.y = y\n",
        "\n",
        "    # O método '__mul__' sobrecarrega o operador de multiplicação '*' para a classe Vector2D.\n",
        "    # Ele é chamado quando dois objetos da classe 'Vector2D' são multiplicados.\n",
        "    # O resultado da multiplicação retorna um novo objeto 'Vector2D', onde o valor de 'x' é multiplicado\n",
        "    # pelo valor de 'x' do outro vetor, enquanto 'y' é somado ao 'y' do outro vetor.\n",
        "    def __mul__(self, other):\n",
        "        return Vector2D(self.x * other.x, self.y + other.y)\n",
        "\n",
        "    # O método '__truediv__' sobrecarrega o operador de divisão '/' para a classe Vector2D.\n",
        "    # Ele é chamado quando dois objetos da classe 'Vector2D' são divididos.\n",
        "    # O resultado da divisão retorna um novo objeto 'Vector2D', onde 'x' é dividido pelo 'x' do outro vetor,\n",
        "    # e 'y' é dividido pelo 'y' do outro vetor.\n",
        "    def __truediv__(self, other):\n",
        "        return Vector2D(self.x / other.x, self.y / other.y)\n",
        "\n",
        "    # O método '__str__' define como o objeto 'Vector2D' deve ser representado como string.\n",
        "    # Quando chamamos 'print' no objeto, ele retornará uma string formatada com os valores de 'x' e 'y'.\n",
        "    def __str__(self):\n",
        "        return \"({}, {})\".format(self.x, self.y)\n",
        "\n",
        "# Cria o objeto 'v1', uma instância da classe 'Vector2D' com os valores (30, 40).\n",
        "v1 = Vector2D(30, 40)\n",
        "\n",
        "# Cria o objeto 'v2', outra instância da classe 'Vector2D' com os valores (10, 20).\n",
        "v2 = Vector2D(10, 20)\n",
        "\n",
        "# Multiplica os objetos 'v1' e 'v2' usando o método '__mul__', e armazena o resultado em 'v3'.\n",
        "# Isso retorna um novo vetor com 'x' = 30 * 10 = 300 e 'y' = 40 + 20 = 60.\n",
        "v3 = v1 * v2\n",
        "\n",
        "# Divide os objetos 'v1' e 'v2' usando o método '__truediv__', e armazena o resultado em 'v4'.\n",
        "# Isso retorna um novo vetor com 'x' = 30 / 10 = 3.0 e 'y' = 40 / 20 = 2.0.\n",
        "v4 = v1 / v2\n",
        "\n",
        "# Imprime o resultado da multiplicação, chamando o método '__str__' implicitamente para exibir 'v3'.\n",
        "# O resultado impresso será: \"v1 * v2 = (300, 60)\".\n",
        "print('v1 * v2 = ', v3)\n",
        "\n",
        "# Imprime o resultado da divisão, chamando o método '__str__' implicitamente para exibir 'v4'.\n",
        "# O resultado impresso será: \"v1 / v2 = (3.0, 2.0)\".\n",
        "print('v1 / v2 = ', v4)"
      ],
      "metadata": {
        "colab": {
          "base_uri": "https://localhost:8080/"
        },
        "id": "CaLVNV4nacHm",
        "outputId": "d564341e-9b2f-42cd-bc60-aa7acc7e23c1"
      },
      "execution_count": 27,
      "outputs": [
        {
          "output_type": "stream",
          "name": "stdout",
          "text": [
            "v1 * v2 =  (300, 60)\n",
            "v1 / v2 =  (3.0, 2.0)\n"
          ]
        }
      ]
    }
  ]
}