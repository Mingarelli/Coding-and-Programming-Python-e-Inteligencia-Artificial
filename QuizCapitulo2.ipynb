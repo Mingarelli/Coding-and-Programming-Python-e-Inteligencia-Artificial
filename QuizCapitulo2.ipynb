{
  "nbformat": 4,
  "nbformat_minor": 0,
  "metadata": {
    "colab": {
      "provenance": []
    },
    "kernelspec": {
      "name": "python3",
      "display_name": "Python 3"
    },
    "language_info": {
      "name": "python"
    }
  },
  "cells": [
    {
      "cell_type": "markdown",
      "source": [
        "Q 10-01\n",
        "\n",
        "Escreva duas strings, s1 e s2, com o conteúdo \"Eu amo\", \"Eu gosto de\" e \"Panqueca\", \"Suco de laranja\", \"Café\" respectivamente. O programa deve ter o seguinte resultado:\n",
        "\n",
        "\n",
        "\n",
        "Eu amo Panqueca.\n",
        "\n",
        "Eu amo Suco de laranja.\n",
        "\n",
        "Eu amo Café.\n",
        "\n",
        "Eu gosto de Panqueca.\n",
        "\n",
        "Eu gosto de Suco de laranja.\n",
        "\n",
        "Eu gosto de Café.\n",
        "\n",
        "Dica: Use o laço para imprimir"
      ],
      "metadata": {
        "id": "LJQAmpGyk1Zn"
      }
    },
    {
      "cell_type": "code",
      "execution_count": null,
      "metadata": {
        "colab": {
          "base_uri": "https://localhost:8080/"
        },
        "id": "f6P-fvdEkE1N",
        "outputId": "941aac18-c42d-4c31-c88a-ac0b790eb09b"
      },
      "outputs": [
        {
          "output_type": "stream",
          "name": "stdout",
          "text": [
            "Eu amo Panqueca\n",
            "Eu amo Suco de laranja\n",
            "Eu amo Café\n",
            "Eu gosto de Panqueca\n",
            "Eu gosto de Suco de laranja\n",
            "Eu gosto de Café\n"
          ]
        }
      ],
      "source": [
        "# Lista de frases iniciais\n",
        "s1 = [\"Eu amo\", \"Eu gosto de\"]\n",
        "\n",
        "# Lista de itens para combinar com as frases de s1\n",
        "s2 = [\"Panqueca\", \"Suco de laranja\", \"Café\"]\n",
        "\n",
        "# Loop através de cada índice da lista s1\n",
        "for i in range(len(s1)):\n",
        "\n",
        "    # Loop através de cada índice da lista s2\n",
        "    for j in range(len(s2)):\n",
        "\n",
        "        # Imprime a combinação da frase de s1 com o item de s2\n",
        "        print(s1[i], s2[j])"
      ]
    },
    {
      "cell_type": "markdown",
      "source": [
        "Q 11-01\n",
        "\n",
        "O dicionário de pessoas é definido da seguinte forma:\n",
        "\n",
        "person = {'Name': 'Davi', 'Age': 26, 'Weight': 82, 'Job': 'Cientista de dados'}\n",
        "\n",
        "Adicione um novo item a este dicionário person com a chave 'Pai' e o valor\n",
        "\n",
        "\n",
        "\n",
        "'Antônio' e imprima o dicionário."
      ],
      "metadata": {
        "id": "3CjXVhDXmxY4"
      }
    },
    {
      "cell_type": "code",
      "source": [
        "# Criação de um dicionário chamado 'person' que contém informações sobre uma pessoa\n",
        "person = {\n",
        "    'Name': 'Davi',           # Chave 'Name' com o valor 'Davi'\n",
        "    'Age': 26,                # Chave 'Age' com o valor 26\n",
        "    'Weight': 82,             # Chave 'Weight' com o valor 82\n",
        "    'Job': 'Cientista de dados'  # Chave 'Job' com o valor 'Cientista de dados'\n",
        "}\n",
        "\n",
        "# Exibe o dicionário 'person' completo no console\n",
        "print(person)\n",
        "\n",
        "# Adiciona uma nova chave 'Dad' com o valor 'Antônio' ao dicionário\n",
        "person['Dad'] = 'Antônio'\n",
        "\n",
        "# Exibe novamente o dicionário 'person', agora incluindo a nova chave 'Dad'\n",
        "print(person)"
      ],
      "metadata": {
        "colab": {
          "base_uri": "https://localhost:8080/"
        },
        "id": "hXRFDRnem1QP",
        "outputId": "4e93fd8b-ee89-4204-fd91-ec0f386868b8"
      },
      "execution_count": null,
      "outputs": [
        {
          "output_type": "stream",
          "name": "stdout",
          "text": [
            "{'Name': 'Davi', 'Age': 26, 'Weight': 82, 'Job': 'Cientista de dados'}\n",
            "{'Name': 'Davi', 'Age': 26, 'Weight': 82, 'Job': 'Cientista de dados', 'Dad': 'Antônio'}\n"
          ]
        }
      ]
    },
    {
      "cell_type": "markdown",
      "source": [
        "Q 12-01\n",
        "\n",
        "Ao utilizar uma tupla, os valores de duas variáveis podem ser trocados sem o uso de uma variável temporária. Usando este método de troca, escreva um programa que deixe o maior valor por último na lista.\n",
        "Dica: Use um for loop. Ao trocar valores em uma lista, não devem ser usadas variáveis adicionais, como temp\n",
        "\n",
        "\n",
        "list = [5, 6, 3, 9, 2, 12, 3, 8, 7]"
      ],
      "metadata": {
        "id": "bt7LxaJloT8G"
      }
    },
    {
      "cell_type": "code",
      "source": [
        "# Criação de uma lista com números desordenados\n",
        "list = [5, 6, 3, 9, 2, 12, 3, 8, 7]\n",
        "\n",
        "# Inicializa uma variável 'c' para contar o número de passagens no loop 'while'\n",
        "c = 0\n",
        "\n",
        "# Estrutura 'while' que continua até que 'c' seja igual ao tamanho da lista\n",
        "while c < len(list):\n",
        "\n",
        "    # Loop interno para percorrer a lista até o penúltimo elemento\n",
        "    for i in range(len(list) - 1):\n",
        "\n",
        "        # Atribui o valor de dois elementos consecutivos da lista a 'a' e 'b'\n",
        "        a, b = list[i], list[i+1]\n",
        "\n",
        "        # Verifica se o valor atual 'a' é maior que o próximo valor 'b'\n",
        "        if a > b:\n",
        "            # Se 'a' for maior que 'b', eles são trocados de lugar\n",
        "            list[i], list[i+1] = b, a\n",
        "\n",
        "    # Incrementa a variável de controle 'c' para avançar no loop 'while'\n",
        "    c += 1\n",
        "\n",
        "# Exibe a lista ordenada após o fim do processo de ordenação\n",
        "print(list)"
      ],
      "metadata": {
        "colab": {
          "base_uri": "https://localhost:8080/"
        },
        "id": "Wadp_c7FoZDw",
        "outputId": "3703e2e1-e3ef-4d3b-f437-c807982129c1"
      },
      "execution_count": null,
      "outputs": [
        {
          "output_type": "stream",
          "name": "stdout",
          "text": [
            "[2, 3, 3, 5, 6, 7, 8, 9, 12]\n"
          ]
        }
      ]
    },
    {
      "cell_type": "markdown",
      "source": [
        "Q 13-01\n",
        "\n",
        "A matriz bidimensional a contém os valores [[1, 2], [3, 4], [5, 6]]. Mude esta matriz bidimensional para uma matriz unidimensional como [1, 2, 3, 4, 5, 6], e imprima-a.\n",
        "Dica: Use um for loop. Defina uma nova matriz e coloque os elementos de uma nessa matriz."
      ],
      "metadata": {
        "id": "4luBxeBTt2mg"
      }
    },
    {
      "cell_type": "code",
      "source": [
        "# Criação de uma lista 'valores' que contém três listas internas, cada uma com dois números\n",
        "valores = [[1, 2], [3, 4], [5, 6]]\n",
        "\n",
        "# Inicializa uma lista vazia que será usada para armazenar os valores de forma unidimensional\n",
        "unidimensional = []\n",
        "\n",
        "# Loop que percorre cada lista interna dentro de 'valores'\n",
        "for i in valores:\n",
        "\n",
        "    # Desempacota os dois valores da lista interna 'i' nas variáveis 'a' e 'b'\n",
        "    a, b = i\n",
        "\n",
        "    # Adiciona o valor de 'a' à lista 'unidimensional'\n",
        "    unidimensional.append(a)\n",
        "\n",
        "    # Adiciona o valor de 'b' à lista 'unidimensional'\n",
        "    unidimensional.append(b)\n",
        "\n",
        "# Exibe a lista 'unidimensional', que agora contém todos os valores de 'valores' em uma única dimensão\n",
        "print(unidimensional)"
      ],
      "metadata": {
        "colab": {
          "base_uri": "https://localhost:8080/"
        },
        "id": "g9RzyXvqt9wg",
        "outputId": "f17c551e-154c-4be4-e758-267504f3421c"
      },
      "execution_count": null,
      "outputs": [
        {
          "output_type": "stream",
          "name": "stdout",
          "text": [
            "[1, 2, 3, 4, 5, 6]\n"
          ]
        }
      ]
    },
    {
      "cell_type": "markdown",
      "source": [
        "Q 14-01\n",
        "\n",
        "Há uma variável do dicionário maria como segue. Nesta variável de dicionário, cursos como 'coreano' e 'inglês' e suas pontuações são armazenados como key:value. Imprima a nota média de 89,25 para as notas de Maria.\n",
        "Dica: Use as funções de valores() e len() do dicionário\n",
        "\n",
        "\n",
        "maria = {'coreano': 94, 'ingles': 91, 'matematica': 89, 'ciencia': 83}"
      ],
      "metadata": {
        "id": "geHs0BedvgGp"
      }
    },
    {
      "cell_type": "code",
      "source": [
        "# Criação de um dicionário 'maria' que contém as notas de Maria em diferentes matérias\n",
        "maria = {\n",
        "    'coreano': 94,    # Nota de coreano\n",
        "    'ingles': 91,     # Nota de inglês\n",
        "    'matematica': 89, # Nota de matemática\n",
        "    'ciencia': 83     # Nota de ciência\n",
        "}\n",
        "\n",
        "# Calcula a soma de todas as notas de Maria utilizando a função 'sum' e o método 'values' do dicionário\n",
        "soma = sum(maria.values())\n",
        "\n",
        "# Calcula o número total de matérias (ou notas) utilizando a função 'len', que retorna o tamanho do dicionário\n",
        "tamanho = len(maria)\n",
        "\n",
        "# Calcula a média das notas dividindo a soma pelo número de matérias\n",
        "media = soma / tamanho\n",
        "\n",
        "# Exibe a média das notas de Maria com duas casas decimais usando f-string\n",
        "print(f'Média da nota de Maria é de {media:.2f}')"
      ],
      "metadata": {
        "colab": {
          "base_uri": "https://localhost:8080/"
        },
        "id": "1R-L9X4BvhjI",
        "outputId": "e63c0ccf-7cc6-41ec-abc1-c7dbb61050c6"
      },
      "execution_count": null,
      "outputs": [
        {
          "output_type": "stream",
          "name": "stdout",
          "text": [
            "Média da nota de Maria é de 89.25\n"
          ]
        }
      ]
    },
    {
      "cell_type": "markdown",
      "source": [
        "Q 15-01\n",
        "\n",
        "Declarar um dicionário school, como a seguir:\n",
        "\n",
        "school = { 'kim': {'age': 16, 'hei': 170, 'grade': 3}, 'lee': {'age': 15, 'hei': 168, 'grade': 2}, 'choi': {'age': 14, 'hei': 173, 'grade': 1}}\n",
        "Em seguida, use a função deepcopy() do módulo de copy para escrever um programa que 'copie' para outra variável, school2.\n",
        "\n",
        "(Verifique se school e school2 são variáveis diferentes através do operador is).\n",
        "Dica: Imprimir para que o resultado da school seja school2 é falso."
      ],
      "metadata": {
        "id": "MhXUcaUczABa"
      }
    },
    {
      "cell_type": "code",
      "source": [
        "import copy as cp"
      ],
      "metadata": {
        "id": "9uBL_3ZKz8Sz"
      },
      "execution_count": null,
      "outputs": []
    },
    {
      "cell_type": "code",
      "source": [
        "# Criação de um dicionário aninhado chamado 'school'\n",
        "# Cada chave do dicionário representa o nome de um aluno (kim, lee, choi)\n",
        "# Os valores associados a cada aluno são também dicionários, contendo informações sobre idade (age), altura (hei) e série (grade)\n",
        "school = {\n",
        "    'kim': {'age': 16, 'hei': 170, 'grade': 3},  # Dados do aluno 'kim'\n",
        "    'lee': {'age': 15, 'hei': 168, 'grade': 2},  # Dados do aluno 'lee'\n",
        "    'choi': {'age': 14, 'hei': 173, 'grade': 1}  # Dados do aluno 'choi'\n",
        "}\n",
        "\n",
        "# Cria uma cópia profunda (deep copy) do dicionário 'school' e a armazena em 'school2'\n",
        "# É necessário importar a biblioteca 'copy' para usar o método 'deepcopy'\n",
        "import copy as cp  # Renomeia a biblioteca 'copy' para 'cp' por conveniência\n",
        "school2 = cp.deepcopy(school)\n",
        "\n",
        "# Exibe os dicionários 'school' e 'school2', um abaixo do outro, utilizando o argumento 'sep' para separar com nova linha\n",
        "print(school, school2, sep='\\n')\n",
        "\n",
        "# Verifica se 'school2' e 'school' são o mesmo objeto na memória\n",
        "# 'deepcopy' cria uma cópia completamente nova do dicionário original\n",
        "# Portanto, o resultado esperado aqui é 'False', pois são objetos diferentes na memória\n",
        "print(school2 is school)"
      ],
      "metadata": {
        "colab": {
          "base_uri": "https://localhost:8080/"
        },
        "id": "M83jde3zzCw9",
        "outputId": "a24207c6-5d0c-4c9a-94d4-01bb78f86282"
      },
      "execution_count": null,
      "outputs": [
        {
          "output_type": "stream",
          "name": "stdout",
          "text": [
            "{'kim': {'age': 16, 'hei': 170, 'grade': 3}, 'lee': {'age': 15, 'hei': 168, 'grade': 2}, 'choi': {'age': 14, 'hei': 173, 'grade': 1}}\n",
            "{'kim': {'age': 16, 'hei': 170, 'grade': 3}, 'lee': {'age': 15, 'hei': 168, 'grade': 2}, 'choi': {'age': 14, 'hei': 173, 'grade': 1}}\n",
            "False\n"
          ]
        }
      ]
    },
    {
      "cell_type": "markdown",
      "source": [
        "Q16-01\n",
        "\n",
        "Há uma pontuação tupla como se segue. Esta tupla contém informações sobre quatro alunos. Nesta informação, o nome do aluno e as notas em inglês, matemática e ciências formam um tuple. Por exemplo, 'Davi' tem uma nota de 88 em inglês, 95 em matemática e 90 em ciências.\n",
        "\n",
        "notas = (('Davi',  88,  95, 90), ('Felipe', 83, 98, 81), ('Luciano', 81, 97, 98), ('Rodrigo', 82, 89, 83))\n",
        "Extrair somente as notas matemáticas, usando a função zip na tupla da nota. Escreva um código que calcula a média das pontuações de matemáticas extraídas."
      ],
      "metadata": {
        "id": "6LiRxd2n1pji"
      }
    },
    {
      "cell_type": "code",
      "source": [
        "# Criação de uma tupla de tuplas chamada 'notas', que contém o nome de cada aluno e suas notas em três matérias: inglês, matemática e ciência\n",
        "notas = (\n",
        "    ('Davi', 88, 95, 90),   # Notas de Davi\n",
        "    ('Felipe', 83, 98, 81), # Notas de Felipe\n",
        "    ('Luciano', 81, 97, 98),# Notas de Luciano\n",
        "    ('Rodrigo', 82, 89, 83) # Notas de Rodrigo\n",
        ")\n",
        "\n",
        "# Inicializa a variável 'soma' para acumular a soma das notas de matemática\n",
        "soma = 0\n",
        "\n",
        "# Armazena o número total de alunos (quantidade de tuplas dentro de 'notas') utilizando a função 'len'\n",
        "tamanho = len(notas)\n",
        "\n",
        "# Loop através da função 'zip(notas)', que empacota as tuplas para facilitar a iteração\n",
        "for nota in zip(notas):\n",
        "\n",
        "    # Desempacota a tupla 'nota' em quatro variáveis: nome do aluno, nota de inglês, matemática e ciência\n",
        "    nome, ingles, matematica, ciencia = nota[0]\n",
        "\n",
        "    # Adiciona a nota de matemática à variável 'soma'\n",
        "    soma = soma + matematica\n",
        "\n",
        "# Calcula a média das notas de matemática dividindo a soma pelo número de alunos\n",
        "media = soma / tamanho\n",
        "\n",
        "# Exibe a média das notas de matemática da sala com duas casas decimais utilizando uma f-string\n",
        "print(f'Média da matematica da Sala é de {media:.2f}')"
      ],
      "metadata": {
        "colab": {
          "base_uri": "https://localhost:8080/"
        },
        "id": "xfoLFQtS1tCR",
        "outputId": "0bd6d393-54d8-461d-8772-468d7f17ca5c"
      },
      "execution_count": null,
      "outputs": [
        {
          "output_type": "stream",
          "name": "stdout",
          "text": [
            "Média da matematica da Sala é de 94.75\n"
          ]
        }
      ]
    }
  ]
}