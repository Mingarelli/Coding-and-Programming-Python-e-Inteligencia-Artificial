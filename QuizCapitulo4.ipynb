{
  "nbformat": 4,
  "nbformat_minor": 0,
  "metadata": {
    "colab": {
      "provenance": []
    },
    "kernelspec": {
      "name": "python3",
      "display_name": "Python 3"
    },
    "language_info": {
      "name": "python"
    }
  },
  "cells": [
    {
      "cell_type": "markdown",
      "source": [
        "Q22-01\n",
        "\n",
        "Escreva a saída do código a seguir\n",
        "\n",
        "```\n",
        "stack = Stack()\n",
        "stack.push(\"Banana\")\n",
        "stack.push(\"Maçã\")\n",
        "stack.push(\"Tomate\")\n",
        "stack.pop()\n",
        "stack.push(\"Morango\")\n",
        "stack.push(\"Uva\")\n",
        "stack.pop()\n",
        "print(stack.stack)\n",
        "\n",
        "```\n"
      ],
      "metadata": {
        "id": "mSZqGs-8b40E"
      }
    },
    {
      "cell_type": "markdown",
      "source": [
        "Para determinar a saída, vamos acompanhar cada operação na pilha:\n",
        "\n",
        "\n",
        "\n",
        "```\n",
        "stack.push(\"Banana\") → Adiciona \"Banana\" à pilha.\n",
        "Pilha: [\"Banana\"]\n",
        "\n",
        "stack.push(\"Maçã\") → Adiciona \"Maçã\" à pilha.\n",
        "Pilha: [\"Banana\", \"Maçã\"]\n",
        "\n",
        "stack.push(\"Tomate\") → Adiciona \"Tomate\" à pilha.\n",
        "Pilha: [\"Banana\", \"Maçã\", \"Tomate\"]\n",
        "\n",
        "stack.pop() → Remove o item do topo (\"Tomate\").\n",
        "Pilha: [\"Banana\", \"Maçã\"]\n",
        "\n",
        "stack.push(\"Morango\") → Adiciona \"Morango\" à pilha.\n",
        "Pilha: [\"Banana\", \"Maçã\", \"Morango\"]\n",
        "\n",
        "stack.push(\"Uva\") → Adiciona \"Uva\" à pilha.\n",
        "Pilha: [\"Banana\", \"Maçã\", \"Morango\", \"Uva\"]\n",
        "\n",
        "stack.pop() → Remove o item do topo (\"Uva\").\n",
        "Pilha: [\"Banana\", \"Maçã\", \"Morango\"]\n",
        "\n",
        "Portanto, ao executar print(stack.stack), a saída será:\n",
        "[\"Banana\", \"Maçã\", \"Morango\"]\n",
        "\n",
        "```\n",
        "\n",
        "\n"
      ],
      "metadata": {
        "id": "S3DET546cdVS"
      }
    },
    {
      "cell_type": "markdown",
      "source": [
        "Q22-02\n",
        "\n",
        "Escreva a saída do código a seguir\n",
        "\n",
        "\n",
        "```\n",
        "stack = Stack()\n",
        "items = [10 * i for i in range(1, 10)]\n",
        "for item in items:\n",
        "    stack.push(item)\n",
        "    if (item // 10) % 2 == 0:\n",
        "        stack.pop()\n",
        "print(stack.stack)\n",
        "```"
      ],
      "metadata": {
        "id": "A96StXHrdOhs"
      }
    },
    {
      "cell_type": "markdown",
      "source": [
        "Vamos analisar o código linha por linha para entender como cada operação afeta a pilha:\n",
        "\n",
        "\n",
        "```\n",
        "items = [10 * i for i in range(1, 10)]\n",
        "\n",
        "Gera uma lista items com múltiplos de 10, de 10 a 90 (ou seja, [10, 20, 30, 40, 50, 60, 70, 80, 90]).\n",
        "for item in items:\n",
        "\n",
        "Itera sobre cada valor de items.\n",
        "Dentro do loop:\n",
        "\n",
        "stack.push(item) → Adiciona o item atual à pilha.\n",
        "if (item // 10) % 2 == 0: → Verifica se (item // 10) é par. Se for, executa stack.pop(), removendo o item do topo.\n",
        "Agora, vamos percorrer cada item de items para entender o efeito na pilha:\n",
        "\n",
        "item = 10:\n",
        "stack.push(10) → Pilha: [10]\n",
        "(10 // 10) % 2 = 1 (ímpar), então não remove nada.\n",
        "\n",
        "item = 20:\n",
        "stack.push(20) → Pilha: [10, 20]\n",
        "(20 // 10) % 2 = 0 (par), então stack.pop() remove 20.\n",
        "Pilha: [10]\n",
        "\n",
        "item = 30:\n",
        "stack.push(30) → Pilha: [10, 30]\n",
        "(30 // 10) % 2 = 1 (ímpar), então não remove nada.\n",
        "\n",
        "item = 40:\n",
        "stack.push(40) → Pilha: [10, 30, 40]\n",
        "(40 // 10) % 2 = 0 (par), então stack.pop() remove 40.\n",
        "Pilha: [10, 30]\n",
        "\n",
        "item = 50:\n",
        "stack.push(50) → Pilha: [10, 30, 50]\n",
        "(50 // 10) % 2 = 1 (ímpar), então não remove nada.\n",
        "\n",
        "item = 60:\n",
        "stack.push(60) → Pilha: [10, 30, 50, 60]\n",
        "(60 // 10) % 2 = 0 (par), então stack.pop() remove 60.\n",
        "Pilha: [10, 30, 50]\n",
        "\n",
        "item = 70:\n",
        "stack.push(70) → Pilha: [10, 30, 50, 70]\n",
        "(70 // 10) % 2 = 1 (ímpar), então não remove nada.\n",
        "\n",
        "item = 80:\n",
        "stack.push(80) → Pilha: [10, 30, 50, 70, 80]\n",
        "(80 // 10) % 2 = 0 (par), então stack.pop() remove 80.\n",
        "Pilha: [10, 30, 50, 70]\n",
        "\n",
        "item = 90:\n",
        "stack.push(90) → Pilha: [10, 30, 50, 70, 90]\n",
        "(90 // 10) % 2 = 1 (ímpar), então não remove nada.\n",
        "\n",
        "Após a conclusão do loop, o conteúdo final da pilha será:\n",
        "python\n",
        "Copiar código\n",
        "[10, 30, 50, 70, 90]\n",
        "```\n"
      ],
      "metadata": {
        "id": "EDU5SR3IdzT0"
      }
    },
    {
      "cell_type": "markdown",
      "source": [
        "Q 23-01\n",
        "\n",
        "Escreva a saída do código a seguir\n",
        "\n",
        "```\n",
        "queue = Queue()\n",
        "items = [10 * i for i in range(1, 11)]\n",
        "for item in items:\n",
        "    queue.enqueue(item)\n",
        "    if (item // 10) % 2 == 0:\n",
        "        queue.dequeue()\n",
        "print(queue.queue)\n",
        "```"
      ],
      "metadata": {
        "id": "C4loPTpneauL"
      }
    },
    {
      "cell_type": "markdown",
      "source": [
        "Vamos analisar o código e o impacto de cada operação na fila.\n",
        "\n",
        "```\n",
        "items = [10 * i for i in range(1, 11)]\n",
        "\n",
        "Gera uma lista items com múltiplos de 10, de 10 a 100: [10, 20, 30, 40, 50, 60, 70, 80, 90, 100].\n",
        "for item in items:\n",
        "\n",
        "Itera sobre cada valor de items.\n",
        "Dentro do loop:\n",
        "\n",
        "queue.enqueue(item) → Adiciona o item atual à fila.\n",
        "if (item // 10) % 2 == 0: → Verifica se (item // 10) é par. Se for, executa queue.dequeue(), removendo o item da frente da fila.\n",
        "Vamos acompanhar a execução de cada item na lista items:\n",
        "\n",
        "item = 10:\n",
        "\n",
        "queue.enqueue(10) → Fila: [10]\n",
        "(10 // 10) % 2 = 1 (ímpar), então não remove nada.\n",
        "item = 20:\n",
        "\n",
        "queue.enqueue(20) → Fila: [10, 20]\n",
        "(20 // 10) % 2 = 0 (par), então queue.dequeue() remove 10.\n",
        "Fila: [20]\n",
        "item = 30:\n",
        "\n",
        "queue.enqueue(30) → Fila: [20, 30]\n",
        "(30 // 10) % 2 = 1 (ímpar), então não remove nada.\n",
        "item = 40:\n",
        "\n",
        "queue.enqueue(40) → Fila: [20, 30, 40]\n",
        "(40 // 10) % 2 = 0 (par), então queue.dequeue() remove 20.\n",
        "Fila: [30, 40]\n",
        "item = 50:\n",
        "\n",
        "queue.enqueue(50) → Fila: [30, 40, 50]\n",
        "(50 // 10) % 2 = 1 (ímpar), então não remove nada.\n",
        "item = 60:\n",
        "\n",
        "queue.enqueue(60) → Fila: [30, 40, 50, 60]\n",
        "(60 // 10) % 2 = 0 (par), então queue.dequeue() remove 30.\n",
        "Fila: [40, 50, 60]\n",
        "item = 70:\n",
        "\n",
        "queue.enqueue(70) → Fila: [40, 50, 60, 70]\n",
        "(70 // 10) % 2 = 1 (ímpar), então não remove nada.\n",
        "item = 80:\n",
        "\n",
        "queue.enqueue(80) → Fila: [40, 50, 60, 70, 80]\n",
        "(80 // 10) % 2 = 0 (par), então queue.dequeue() remove 40.\n",
        "Fila: [50, 60, 70, 80]\n",
        "item = 90:\n",
        "\n",
        "queue.enqueue(90) → Fila: [50, 60, 70, 80, 90]\n",
        "(90 // 10) % 2 = 1 (ímpar), então não remove nada.\n",
        "item = 100:\n",
        "\n",
        "queue.enqueue(100) → Fila: [50, 60, 70, 80, 90, 100]\n",
        "(100 // 10) % 2 = 0 (par), então queue.dequeue() remove 50.\n",
        "Fila: [60, 70, 80, 90, 100]\n",
        "Após a conclusão do loop, o conteúdo final da fila será:\n",
        "\n",
        "python\n",
        "Copiar código\n",
        "[60, 70, 80, 90, 100]\n",
        "```\n",
        "\n"
      ],
      "metadata": {
        "id": "ymNR-Umkkp4D"
      }
    },
    {
      "cell_type": "markdown",
      "source": [
        "Q24-01\n",
        "\n",
        "O que o algoritmo da função find_two() abaixo faz? Analisar o código e escrever o resultado da execução.\n",
        "\n",
        "\n",
        "```\n",
        "def find_two(nums):\n",
        "    x = y = 0\n",
        "    for i in range(1, len(nums)):\n",
        "        if nums[x] < nums[i]:\n",
        "            x = i\n",
        "        elif nums[y] > nums[i]:\n",
        "            y = i\n",
        "    return x, y\n",
        "nums = [11, 37, 45, 26, 59, 28, 17, 53]\n",
        "i, j = find_two(nums)\n",
        "print(nums[i], nums[j])\n",
        "```\n",
        "\n"
      ],
      "metadata": {
        "id": "B35vjqhlpzwD"
      }
    },
    {
      "cell_type": "code",
      "source": [
        "def find_two(nums):\n",
        "    x = y = 0\n",
        "    for i in range(1, len(nums)):\n",
        "        if nums[x] < nums[i]:\n",
        "            x = i\n",
        "        elif nums[y] > nums[i]:\n",
        "            y = i\n",
        "    return x, y\n",
        "nums = [11, 37, 45, 26, 59, 28, 17, 53]\n",
        "i, j = find_two(nums)\n",
        "print(nums[i], nums[j])"
      ],
      "metadata": {
        "colab": {
          "base_uri": "https://localhost:8080/"
        },
        "id": "l0tuGUI_p7sL",
        "outputId": "a929e9a0-c00e-4517-d40a-12c0c21e68a9"
      },
      "execution_count": null,
      "outputs": [
        {
          "output_type": "stream",
          "name": "stdout",
          "text": [
            "59 11\n"
          ]
        }
      ]
    },
    {
      "cell_type": "markdown",
      "source": [
        "Vamos analisar o código da função find_two() para entender o que ela faz.\n",
        "\n",
        "```\n",
        "Explicação do Código\n",
        "Definição das variáveis iniciais:\n",
        "x = y = 0 define x e y como índices iniciais, ambos apontando para o primeiro elemento da lista.\n",
        "\n",
        "Loop sobre a lista:\n",
        "O for começa em i = 1 e percorre a lista até o último índice, comparando cada elemento com os valores nos índices x e y:\n",
        "\n",
        "if nums[x] < nums[i]: Se o valor no índice x for menor que nums[i], significa que nums[i] é maior do que o valor atual de nums[x]. Nesse caso, x é atualizado para o índice i, apontando para o maior valor encontrado até agora.\n",
        "elif nums[y] > nums[i]: Se nums[y] for maior que nums[i], significa que nums[i] é menor do que o valor atual de nums[y]. Nesse caso, y é atualizado para o índice i, apontando para o menor valor encontrado até agora.\n",
        "Retorno dos índices x e y: Após o loop, x conterá o índice do maior valor e y o índice do menor valor na lista.\n",
        "\n",
        "Execução do Código com nums = [11, 37, 45, 26, 59, 28, 17, 53]\n",
        "Vamos acompanhar a execução:\n",
        "\n",
        "Inicialmente, x = 0 e y = 0.\n",
        "Iterando sobre nums:\n",
        "i = 1: nums[0] = 11 < nums[1] = 37, então x = 1.\n",
        "i = 2: nums[1] = 37 < nums[2] = 45, então x = 2.\n",
        "i = 3: nums[2] = 45 > nums[3] = 26, não atualiza x ou y.\n",
        "i = 4: nums[2] = 45 < nums[4] = 59, então x = 4.\n",
        "i = 5: nums[4] = 59 > nums[5] = 28, não atualiza x ou y.\n",
        "i = 6: nums[0] = 11 > nums[6] = 17, então y = 6.\n",
        "i = 7: nums[4] = 59 > nums[7] = 53, não atualiza x ou y.\n",
        "Ao final, x = 4 (maior valor 59) e y = 0 (menor valor 11).\n",
        "\n",
        "Resultado Final\n",
        "A execução de print(nums[i], nums[j]) exibirá:\n",
        "\n",
        "python\n",
        "Copiar código\n",
        "59 11\n",
        "```\n",
        "\n"
      ],
      "metadata": {
        "id": "IpAITzhHqOhT"
      }
    },
    {
      "cell_type": "markdown",
      "source": [
        "Q24-02\n",
        "\n",
        "Quantas comparações a função find_two() realiza na questão anterior?"
      ],
      "metadata": {
        "id": "frsPQire9425"
      }
    },
    {
      "cell_type": "markdown",
      "source": [
        "```\n",
        "Para determinar o número de comparações que a função find_two() realiza, vamos analisar o código com base na lista de entrada nums = [11, 37, 45, 26, 59, 28, 17, 53].\n",
        "\n",
        "A função find_two() executa as seguintes operações:\n",
        "\n",
        "Inicializa x e y com 0.\n",
        "Percorre nums a partir do segundo elemento (índice 1) até o final da lista.\n",
        "Para cada elemento nums[i] (com i de 1 até len(nums) - 1), faz uma verificação condicional:\n",
        "Se nums[x] < nums[i], atualiza x para i.\n",
        "Caso contrário, se nums[y] > nums[i], atualiza y para i.\n",
        "Como a lista nums tem 8 elementos, o loop for será executado 7 vezes (para índices de 1 a 7).\n",
        "\n",
        "Contagem de Comparações\n",
        "Para cada iteração:\n",
        "\n",
        "A função faz a primeira comparação nums[x] < nums[i].\n",
        "Se essa comparação for falsa, realiza a segunda comparação nums[y] > nums[i].\n",
        "Assim, em cada iteração, a função realiza 1 ou 2 comparações.\n",
        "\n",
        "Número Total de Comparações\n",
        "Para a lista fornecida (nums = [11, 37, 45, 26, 59, 28, 17, 53]):\n",
        "\n",
        "i = 1: nums[0] < nums[1] (11 < 37) → Verdadeiro (1 comparação)\n",
        "i = 2: nums[1] < nums[2] (37 < 45) → Verdadeiro (1 comparação)\n",
        "i = 3: nums[2] < nums[3] (45 < 26) → Falso; nums[0] > nums[3] (11 > 26) → Falso (2 comparações)\n",
        "i = 4: nums[2] < nums[4] (45 < 59) → Verdadeiro (1 comparação)\n",
        "i = 5: nums[4] < nums[5] (59 < 28) → Falso; nums[0] > nums[5] (11 > 28) → Falso (2 comparações)\n",
        "i = 6: nums[4] < nums[6] (59 < 17) → Falso; nums[0] > nums[6] (11 > 17) → Verdadeiro (2 comparações)\n",
        "i = 7: nums[4] < nums[7] (59 < 53) → Falso; nums[0] > nums[7] (11 > 53) → Falso (2 comparações)\n",
        "Total de comparações: 1+1+2+1+2+2+2=11\n",
        "\n",
        "Portanto, a função find_two() realiza 11 comparações para o exemplo fornecido.\n",
        "```\n",
        "\n"
      ],
      "metadata": {
        "id": "QXY3gWn09_Rg"
      }
    },
    {
      "cell_type": "markdown",
      "source": [
        "Q25-01\n",
        "\n",
        "A seguir está o código para o jogo de correspondência de números. Se o máximo é 100 e o número é 51, qual é o resultado da contagem?\n",
        "\n",
        "```\n",
        "import random\n",
        "\n",
        "maximum = int(input(\"Insira o valor máximo: \"))\n",
        "number = int(input(\"Insira o chute: \"))\n",
        "count = 0\n",
        "low, high = 1, maximum\n",
        "while low < high:\n",
        "    mid = (low + high) // 2\n",
        "    count += 1\n",
        "    if mid == number:\n",
        "        print(f\"Seu número é {number}.\")\n",
        "        break\n",
        "    elif mid > number:\n",
        "        high = mid - 1\n",
        "    else:\n",
        "        low = mid + 1\n",
        "print(f\"Foram procuradas {count} vezes.!\")\n",
        "```\n",
        "\n"
      ],
      "metadata": {
        "id": "1Y5A3kRD_I_K"
      }
    },
    {
      "cell_type": "code",
      "source": [
        "import random\n",
        "\n",
        "maximum = int(input(\"Insira o valor máximo: \"))\n",
        "number = int(input(\"Insira o chute: \"))\n",
        "count = 0\n",
        "low, high = 1, maximum\n",
        "while low < high:\n",
        "    mid = (low + high) // 2\n",
        "    count += 1\n",
        "    if mid == number:\n",
        "        print(f\"Seu número é {number}.\")\n",
        "        break\n",
        "    elif mid > number:\n",
        "        high = mid - 1\n",
        "    else:\n",
        "        low = mid + 1\n",
        "print(f\"Foram procuradas {count} vezes.!\")"
      ],
      "metadata": {
        "colab": {
          "base_uri": "https://localhost:8080/"
        },
        "id": "xXrtFvhb_QAi",
        "outputId": "b8b39d94-a902-40df-c800-6e8d9f54b816"
      },
      "execution_count": 6,
      "outputs": [
        {
          "output_type": "stream",
          "name": "stdout",
          "text": [
            "Insira o valor máximo: 100\n",
            "Insira o chute: 25\n",
            "Seu número é 25.\n",
            "Foram procuradas 2 vezes.!\n"
          ]
        }
      ]
    },
    {
      "cell_type": "markdown",
      "source": [
        "```\n",
        "O código utiliza uma estratégia de busca binária para encontrar o número, o que reduz a quantidade de tentativas pela metade em cada passo. Nesse caso, com o máximo sendo 100 e o número 51, vamos analisar o fluxo da execução:\n",
        "\n",
        "Passo a Passo\n",
        "Inicialização:\n",
        "\n",
        "maximum = 100\n",
        "number = 51\n",
        "count = 0\n",
        "low = 1\n",
        "high = 100\n",
        "Execução do loop while:\n",
        "\n",
        "1ª iteração:\n",
        "mid = (1 + 100) // 2 = 50\n",
        "count = 1\n",
        "Como mid < number (50 < 51), define low = 51.\n",
        "\n",
        "2ª iteração:\n",
        "mid = (51 + 100) // 2 = 75\n",
        "count = 2\n",
        "Como mid > number (75 > 51), define high = 74.\n",
        "\n",
        "3ª iteração:\n",
        "mid = (51 + 74) // 2 = 62\n",
        "count = 3\n",
        "Como mid > number (62 > 51), define high = 61.\n",
        "\n",
        "4ª iteração:\n",
        "mid = (51 + 61) // 2 = 56\n",
        "count = 4\n",
        "Como mid > number (56 > 51), define high = 55.\n",
        "\n",
        "5ª iteração:\n",
        "mid = (51 + 55) // 2 = 53\n",
        "count = 5\n",
        "Como mid > number (53 > 51), define high = 52.\n",
        "\n",
        "6ª iteração:\n",
        "mid = (51 + 52) // 2 = 51\n",
        "count = 6\n",
        "Como mid == number (51 == 51), o programa encontra o número e sai do loop.\n",
        "\n",
        "Resultado\n",
        "O número de tentativas (count) é 6 para encontrar o número 51 com o máximo de 100.\n",
        "```\n",
        "\n"
      ],
      "metadata": {
        "id": "4-Ig9GS-_7Ai"
      }
    },
    {
      "cell_type": "markdown",
      "source": [
        "Q25-02\n",
        "\n",
        "No código do jogo de correspondência de números, se o máximo for 100 e o número for 25, qual é o resultado da contagem?"
      ],
      "metadata": {
        "id": "BCGPMczSAU3L"
      }
    },
    {
      "cell_type": "markdown",
      "source": [
        "```\n",
        "Para encontrar o número 25 com o máximo de 100, o código executará uma busca binária, que divide o intervalo de busca em duas partes a cada iteração.\n",
        "\n",
        "Passo a Passo\n",
        "\n",
        "Inicialização:\n",
        "maximum = 100\n",
        "number = 25\n",
        "count = 0\n",
        "low = 1\n",
        "high = 100\n",
        "\n",
        "Execução do loop while:\n",
        "1ª iteração:\n",
        "mid = (1 + 100) // 2 = 50\n",
        "count = 1\n",
        "Como mid > number (50 > 25), define high = 49.\n",
        "\n",
        "2ª iteração:\n",
        "mid = (1 + 49) // 2 = 25\n",
        "count = 2\n",
        "Como mid == number (25 == 25), o programa encontra o número e sai do loop.\n",
        "\n",
        "Resultado:\n",
        "O número de tentativas (count) é 2 para encontrar o número 25 com o máximo de 100.\n",
        "```\n",
        "\n"
      ],
      "metadata": {
        "id": "l5HW2aFtAhW5"
      }
    },
    {
      "cell_type": "markdown",
      "source": [
        "Q26-01\n",
        "\n",
        "Usando a função hash da classe HashTable, calcule a chave e o hashkey de \"Alice no País das Maravilhas\" como se segue. (O valor da chave é 1763).\n",
        "\n",
        "```\n",
        "table = HashTable(8)\n",
        "book = \"Alice no país das maravilhas\"\n",
        "key = sum(map(ord, book))\n",
        "print(key, table.hash(key))\n",
        "```\n",
        "\n",
        "\n",
        "\n",
        "\n"
      ],
      "metadata": {
        "id": "DWZkDWGsBG6x"
      }
    },
    {
      "cell_type": "code",
      "source": [
        "class HashTable:\n",
        "\n",
        "    def __init__(self, size):\n",
        "        self.size = size\n",
        "        self.table = {}\n",
        "        for i in range(size):\n",
        "            self.table[i] = []\n",
        "\n",
        "    def hash(self, key):\n",
        "        return key % self.size\n",
        "\n",
        "    def get(self, key):\n",
        "        return self.table[self.hash(key)]\n",
        "\n",
        "    def put(self, key, value):\n",
        "        bucket = self.table[self.hash(key)]\n",
        "        if value not in bucket:\n",
        "           bucket.append(value)\n",
        "\n",
        "table = HashTable(8)\n",
        "book = \"Alice no país das maravilhas\"\n",
        "key = sum(map(ord, book))\n",
        "print(list(map(ord, book)))\n",
        "print(key, table.hash(key))"
      ],
      "metadata": {
        "colab": {
          "base_uri": "https://localhost:8080/"
        },
        "id": "6hiCD1aoBOAo",
        "outputId": "b466af6d-a8f6-4b78-dfe3-1bdd1b3ae937"
      },
      "execution_count": 11,
      "outputs": [
        {
          "output_type": "stream",
          "name": "stdout",
          "text": [
            "[65, 108, 105, 99, 101, 32, 110, 111, 32, 112, 97, 237, 115, 32, 100, 97, 115, 32, 109, 97, 114, 97, 118, 105, 108, 104, 97, 115]\n",
            "2764 4\n"
          ]
        }
      ]
    },
    {
      "cell_type": "markdown",
      "source": [
        "\n",
        "```\n",
        "Vamos analisar o código para calcular o valor da chave (key) e a chave de hash (hashkey) para a string \"Alice no país das maravilhas\". O código realiza o seguinte:\n",
        "\n",
        "A variável key é calculada como a soma dos valores ASCII de cada caractere na string \"Alice no País das Maravilhas\".\n",
        "\n",
        "O método hash() usa o operador de módulo para determinar o índice da tabela hash ao dividir a chave pelo tamanho da tabela (size = 8).\n",
        "\n",
        "Vamos calcular a chave (key) e a chave de hash (hashkey) passo a passo.\n",
        "\n",
        "Cálculo da chave (key)\n",
        "A chave é obtida somando os valores ASCII de cada caractere:\n",
        "\n",
        "python\n",
        "Copiar código\n",
        "\"Alice no país das maravilhas\"\n",
        "Usando a função ord() para cada caractere:\n",
        "\n",
        "Valores ASCII de cada caractere:\n",
        "A = 65, l = 108, i = 105, c = 99, e = 101,\n",
        "(espaço) = 32, n = 110, o = 111, (espaço) = 32,\n",
        "p = 112, a = 97, í = 237, s = 115,\n",
        "(espaço) = 32, d = 100, a = 97, s = 115,\n",
        "(espaço) = 32, m = 109, a = 97, r = 114,\n",
        "a = 97, v = 118, i = 105, l = 108,\n",
        "h = 104, a = 97, s = 115.\n",
        "\n",
        "Soma dos valores ASCII:\n",
        "\n",
        "65+108+105+99+101+32+110+111+32+112+97+237+115+32+100+97+115+32+109+97+114+97+118+105+108+104+97+115=2764\n",
        "Assim, a chave (key) é 2764.\n",
        "\n",
        "Cálculo da chave de hash (hashkey)\n",
        "A chave de hash é obtida aplicando o módulo do valor da chave pelo tamanho da tabela (size = 8):\n",
        "\n",
        "hashkey = 2764 mod8 = 4\n",
        "\n",
        "Resultado\n",
        "Chave (key): 2764\n",
        "Chave de hash (hashkey): 4\n",
        "\n",
        "```\n",
        "\n"
      ],
      "metadata": {
        "id": "YYJnbv2JDcya"
      }
    },
    {
      "cell_type": "markdown",
      "source": [
        "Q26-02\n",
        "\n",
        "Se a nova estante tiver 10 compartimentos, use o seguinte código para descobrir qual livro está em cada compartimento.\n",
        "\n",
        "```\n",
        "table = HashTable(10)\n",
        "books = [\n",
        "    \"O Pequeno Príncipe\",\n",
        "    \"O Velho Homem e o Mar\",\n",
        "    \"A Pequena Sereia\",\n",
        "    \"A Bela e a Fera\",\n",
        "    \"A Última Folha\",\n",
        "    \"Alice do País das Maravilhas\"\n",
        "]\n",
        "for book in books:\n",
        "    key = sum(map(ord, book))\n",
        "    table.put(key, book)\n",
        "for key in table.table.keys():\n",
        "    print(key, table.table[key])\n",
        "```\n",
        "\n"
      ],
      "metadata": {
        "id": "tzwgh3W1FXly"
      }
    },
    {
      "cell_type": "code",
      "source": [
        "class HashTable:\n",
        "\n",
        "    def __init__(self, size):\n",
        "        self.size = size\n",
        "        self.table = {}\n",
        "        for i in range(size):\n",
        "            self.table[i] = []\n",
        "\n",
        "    def hash(self, key):\n",
        "        return key % self.size\n",
        "\n",
        "    def get(self, key):\n",
        "        return self.table[self.hash(key)]\n",
        "\n",
        "    def put(self, key, value):\n",
        "        bucket = self.table[self.hash(key)]\n",
        "        if value not in bucket:\n",
        "           bucket.append(value)\n",
        "\n",
        "table = HashTable(10)\n",
        "books = [\n",
        "    \"O Pequeno Príncipe\",\n",
        "    \"O Velho Homem e o Mar\",\n",
        "    \"A Pequena Sereia\",\n",
        "    \"A Bela e a Fera\",\n",
        "    \"A Última Folha\",\n",
        "    \"Alice do País das Maravilhas\"\n",
        "]\n",
        "for book in books:\n",
        "    key = sum(map(ord, book))\n",
        "    table.put(key, book)\n",
        "for key in table.table.keys():\n",
        "    print(key, table.table[key])"
      ],
      "metadata": {
        "colab": {
          "base_uri": "https://localhost:8080/"
        },
        "id": "v9GoTLa8FeXx",
        "outputId": "d40d29d0-5284-47c9-8d63-5a32c198f955"
      },
      "execution_count": 12,
      "outputs": [
        {
          "output_type": "stream",
          "name": "stdout",
          "text": [
            "0 ['Alice do País das Maravilhas']\n",
            "1 ['O Velho Homem e o Mar']\n",
            "2 ['A Última Folha']\n",
            "3 []\n",
            "4 ['O Pequeno Príncipe']\n",
            "5 ['A Bela e a Fera']\n",
            "6 []\n",
            "7 []\n",
            "8 []\n",
            "9 ['A Pequena Sereia']\n"
          ]
        }
      ]
    },
    {
      "cell_type": "markdown",
      "source": [
        "```\n",
        "Cálculo Detalhado para Cada Livro\n",
        "\n",
        "\"Alice do País das Maravilhas\"\n",
        "Chave (key) = Soma dos valores ASCII = 2472\n",
        "Compartimento = 2472 % 10 = 0\n",
        "\n",
        "\"O Velho Homem e o Mar\"\n",
        "Chave (key) = 1792\n",
        "Compartimento = 1792 % 10 = 1\n",
        "\n",
        "\"A Última Folha\"\n",
        "Chave (key) = 1404\n",
        "Compartimento = 1404 % 10 = 2\n",
        "\n",
        "\"O Pequeno Príncipe\"\n",
        "Chave (key) = 1602\n",
        "Compartimento = 1602 % 10 = 4\n",
        "\n",
        "\"A Bela e a Fera\"\n",
        "Chave (key) = 1463\n",
        "Compartimento = 1463 % 10 = 5\n",
        "\n",
        "\"A Pequena Sereia\"\n",
        "Chave (key) = 1605\n",
        "Compartimento = 1605 % 10 = 9\n",
        "\n",
        "0 ['Alice do País das Maravilhas']\n",
        "1 ['O Velho Homem e o Mar']\n",
        "2 ['A Última Folha']\n",
        "3 []\n",
        "4 ['O Pequeno Príncipe']\n",
        "5 ['A Bela e a Fera']\n",
        "6 []\n",
        "7 []\n",
        "8 []\n",
        "9 ['A Pequena Sereia']\n",
        "\n",
        "```\n",
        "\n"
      ],
      "metadata": {
        "id": "8xl48WX8I1Lh"
      }
    }
  ]
}