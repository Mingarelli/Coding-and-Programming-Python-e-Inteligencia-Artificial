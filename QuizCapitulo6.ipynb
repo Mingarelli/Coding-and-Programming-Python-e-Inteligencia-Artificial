{
  "nbformat": 4,
  "nbformat_minor": 0,
  "metadata": {
    "colab": {
      "provenance": []
    },
    "kernelspec": {
      "name": "python3",
      "display_name": "Python 3"
    },
    "language_info": {
      "name": "python"
    }
  },
  "cells": [
    {
      "cell_type": "markdown",
      "source": [
        "Q30-01\n",
        "\n",
        "Este é o problema da troca de moedas. Você tem uma moeda de 400 won. Escreva a saída de como o algoritmo coin_change() determina a mudança para a moeda de 800 won.\n",
        "\n",
        "```\n",
        "def coin_change(coins, amount):\n",
        "    changes = []\n",
        "    largest = 0\n",
        "    while amount > 0:\n",
        "        if amount < coins[largest]:\n",
        "            largest += 1\n",
        "        else:\n",
        "            changes.append(coins[largest])\n",
        "            amount -= coins[largest]\n",
        "    return changes\n",
        "coins = [500, 400, 100, 50, 10]\n",
        "amount = int(input(\"Insira a quantidade: \"))\n",
        "changes = coin_change(coins, amount)\n",
        "print(changes, len(changes))\n",
        "```\n",
        "\n"
      ],
      "metadata": {
        "id": "BDqNVxfC81dp"
      }
    },
    {
      "cell_type": "code",
      "execution_count": null,
      "metadata": {
        "colab": {
          "base_uri": "https://localhost:8080/"
        },
        "id": "eJCFrlJf8dXx",
        "outputId": "cceb25fa-eee7-4fdd-ceec-ed0a21f95722"
      },
      "outputs": [
        {
          "output_type": "stream",
          "name": "stdout",
          "text": [
            "Insira a quantidade: 800\n",
            "[500, 100, 100, 100] 4\n"
          ]
        }
      ],
      "source": [
        "def coin_change(coins, amount):\n",
        "    changes = []\n",
        "    largest = 0\n",
        "    while amount > 0:\n",
        "        if amount < coins[largest]:\n",
        "            largest += 1\n",
        "        else:\n",
        "            changes.append(coins[largest])\n",
        "            amount -= coins[largest]\n",
        "    return changes\n",
        "coins = [500, 400, 100, 50, 10]\n",
        "amount = int(input(\"Insira a quantidade: \"))\n",
        "changes = coin_change(coins, amount)\n",
        "print(changes, len(changes))"
      ]
    },
    {
      "cell_type": "markdown",
      "source": [
        "\n",
        "```\n",
        "Análise passo a passo do código para amount = 800\n",
        "Inicialização:\n",
        "coins = [500, 400, 100, 50, 10]\n",
        "amount = 800\n",
        "changes = [] (lista vazia para armazenar as moedas usadas)\n",
        "largest = 0 (índice da moeda a ser usada)\n",
        "Execução do while loop:\n",
        "Primeira iteração:\n",
        "amount (800) é maior que coins[0] (500), então:\n",
        "A moeda de 500 won é adicionada à lista changes.\n",
        "amount é reduzido para 800−500=300.\n",
        "changes agora é [500].\n",
        "\n",
        "Segunda iteração:\n",
        "amount (300) é menor que coins[0] (500), então:\n",
        "O índice largest é incrementado para 1.\n",
        "\n",
        "Terceira iteração:\n",
        "amount (300) é menor que coins[1] (400), então:\n",
        "O índice largest é incrementado para 2.\n",
        "\n",
        "Quarta iteração:\n",
        "amount (300) é maior que coins[2] (100), então:\n",
        "A moeda de 100 won é adicionada a changes.\n",
        "amount é reduzido para 300−100=200.\n",
        "changes agora é [500, 100].\n",
        "\n",
        "Quinta iteração:\n",
        "amount (200) é maior que coins[2] (100), então:\n",
        "A moeda de 100 won é adicionada a changes.\n",
        "amount é reduzido para 200−100=100.\n",
        "changes agora é [500, 100, 100].\n",
        "\n",
        "Sexta iteração:\n",
        "amount (100) é igual a coins[2] (100), então:\n",
        "A moeda de 100 won é adicionada a changes.\n",
        "amount é reduzido para  100−100=0.\n",
        "changes agora é [500, 100, 100, 100].\n",
        "\n",
        "Fim do loop:\n",
        "O loop termina porque amount se tornou zero. O algoritmo retorna a lista changes = [500, 100, 100, 100] com o comprimento len(changes) = 4.\n",
        "```\n",
        "\n"
      ],
      "metadata": {
        "id": "fF2I_I9k947Q"
      }
    },
    {
      "cell_type": "markdown",
      "source": [
        "Q31-01\n",
        "\n",
        "Você tem 8 moedas idênticas numeradas de 1 a 8. Destas, apenas uma moeda é mais pesada que a outra. Supondo que você possa pesar as moedas com uma balança equilibrada, projete um algoritmo que encontre a moeda mais pesada. Neste momento, quantas vezes a balança balanceada deve ser usada pelo menos?"
      ],
      "metadata": {
        "id": "Qs2mKW2v-XzX"
      }
    },
    {
      "cell_type": "code",
      "source": [
        "def pesquisa_moeda(moeda):\n",
        "    # Se a lista tiver apenas um elemento, retorne-o\n",
        "    if len(moeda) == 1:\n",
        "        return moeda[0]\n",
        "\n",
        "    # Divida a lista ao meio\n",
        "    meio = len(moeda) // 2\n",
        "    primeiro = moeda[:meio]\n",
        "    segundo = moeda[meio:]\n",
        "\n",
        "    # Recursivamente encontre o valor maior em cada metade\n",
        "    maior_primeiro = pesquisa_moeda(primeiro)\n",
        "    maior_segundo = pesquisa_moeda(segundo)\n",
        "\n",
        "    # Retorne o maior valor entre as duas metades\n",
        "    if maior_primeiro > maior_segundo:\n",
        "        return maior_primeiro\n",
        "    else:\n",
        "        return maior_segundo\n",
        "\n",
        "moeda = [1, 1, 1, 1, 2, 1, 1, 1]\n",
        "print(pesquisa_moeda(moeda))"
      ],
      "metadata": {
        "colab": {
          "base_uri": "https://localhost:8080/"
        },
        "id": "KA9dHj4x-btX",
        "outputId": "ef23a3a4-2e92-4b65-d516-84079edf1d8d"
      },
      "execution_count": null,
      "outputs": [
        {
          "output_type": "stream",
          "name": "stdout",
          "text": [
            "2\n"
          ]
        }
      ]
    },
    {
      "cell_type": "markdown",
      "source": [
        "Q31-02\n",
        "\n",
        "Há nove moedas idênticas numeradas de 1 a 9 no problema anterior. Projete um algoritmo para encontrar uma moeda pesada neste caso. Neste momento, quantas vezes a escala equilibrada deve ser usada pelo menos?"
      ],
      "metadata": {
        "id": "PDRSWkzrMY6s"
      }
    },
    {
      "cell_type": "code",
      "source": [
        "# Variável global para contar o número de comparações\n",
        "contador_comparacoes = 0\n",
        "\n",
        "def pesquisa_moeda(moeda):\n",
        "    global contador_comparacoes\n",
        "\n",
        "    # Se a lista tiver apenas um elemento, retorne-o\n",
        "    if len(moeda) == 1:\n",
        "        return moeda[0]\n",
        "\n",
        "    # Divida a lista ao meio\n",
        "    meio = len(moeda) // 2\n",
        "    primeiro = moeda[:meio]\n",
        "    segundo = moeda[meio:]\n",
        "\n",
        "    # Recursivamente encontre o valor maior em cada metade\n",
        "    maior_primeiro = pesquisa_moeda(primeiro)\n",
        "    maior_segundo = pesquisa_moeda(segundo)\n",
        "\n",
        "    # Incrementa o contador para cada comparação feita\n",
        "    contador_comparacoes += 1\n",
        "\n",
        "    # Retorne o maior valor entre as duas metades\n",
        "    if maior_primeiro > maior_segundo:\n",
        "        return maior_primeiro\n",
        "    else:\n",
        "        return maior_segundo\n",
        "\n",
        "moeda = [1, 2, 1, 1, 1, 1, 1, 1, 1]\n",
        "resultado = pesquisa_moeda(moeda)\n",
        "print(\"Moeda diferente encontrada:\", resultado)\n",
        "print(\"Número de comparações realizadas:\", contador_comparacoes)"
      ],
      "metadata": {
        "colab": {
          "base_uri": "https://localhost:8080/"
        },
        "id": "HsMR1eBzMYiD",
        "outputId": "cd804069-c807-476f-f6f7-e3a2c89f61bb"
      },
      "execution_count": null,
      "outputs": [
        {
          "output_type": "stream",
          "name": "stdout",
          "text": [
            "Moeda diferente encontrada: 2\n",
            "Número de comparações realizadas: 8\n"
          ]
        }
      ]
    },
    {
      "cell_type": "markdown",
      "source": [
        "Q32-01\n",
        "\n",
        "Analisar o resultado de execução do seguinte código e compará-lo com o desempenho das funções fib1(), fib2(), e fib3().\n",
        "```\n",
        "def fib1(n):\n",
        "    if n == 0 or n == 1\n",
        "       return n\n",
        "    else:\n",
        "       return fib1(n - 1) + fib1(n - 2)\n",
        "\n",
        "F = {0: 0, 1: 1}\n",
        "\n",
        "def fib2(n):\n",
        "    if n in F:\n",
        "        return F[n]\n",
        "    else:\n",
        "       F[n] = fib2(n - 1) + fib2(n - 2)\n",
        "       return F[n]\n",
        "\n",
        "def fib3(F, n):\n",
        "    if n <= 1:\n",
        "        return F[n]\n",
        "    else:\n",
        "        if F[n] < 0:\n",
        "            F[n] = fib3(F, n - 1) + fib3(F, n - 2)\n",
        "        return F[n]\n",
        "\n",
        "def fib4(n):\n",
        "    if n <= 1:\n",
        "        return n\n",
        "    else:\n",
        "        a, b = 0, 1\n",
        "        for i in range(2, n + 1):\n",
        "            a, b = b, a + b\n",
        "        return b\n",
        "N = int(input(\"Insira um número: \"))\n",
        "print(fib4(N))\n",
        "```\n",
        "\n"
      ],
      "metadata": {
        "id": "OPg_fILQNyJd"
      }
    },
    {
      "cell_type": "code",
      "source": [
        "def fib1(n):\n",
        "  if n == 0 or n == 1:\n",
        "    return n\n",
        "  else:\n",
        "    return fib1(n - 1) + fib1(n - 2)\n",
        "\n",
        "F = {0: 0, 1: 1}\n",
        "\n",
        "def fib2(n):\n",
        "  if n in F:\n",
        "    return F[n]\n",
        "  else:\n",
        "    F[n] = fib2(n - 1) + fib2(n - 2)\n",
        "    return F[n]\n",
        "\n",
        "def fib3(F, n):\n",
        "  if n <= 1:\n",
        "    return F[n]\n",
        "  else:\n",
        "    if F[n] < 0:\n",
        "      F[n] = fib3(F, n - 1) + fib3(F, n - 2)\n",
        "    return F[n]\n",
        "\n",
        "def fib4(n):\n",
        "  if n <= 1:\n",
        "    return n\n",
        "  else:\n",
        "    a, b = 0, 1\n",
        "    for i in range(2, n + 1):\n",
        "      a, b = b, a + b\n",
        "    return b\n",
        "\n",
        "N = int(input(\"Insira um número: \"))\n",
        "F = [0, 1] + [-1] * (N-1)\n",
        "print(fib1(N), fib2(N), fib3(F,N), fib4(N))"
      ],
      "metadata": {
        "colab": {
          "base_uri": "https://localhost:8080/"
        },
        "id": "LjJiHUeEOZa9",
        "outputId": "316d8d0e-11ff-458f-977a-5e9144f2a29a"
      },
      "execution_count": null,
      "outputs": [
        {
          "output_type": "stream",
          "name": "stdout",
          "text": [
            "Insira um número: 10\n",
            "55 55 55 55\n"
          ]
        }
      ]
    },
    {
      "cell_type": "markdown",
      "source": [
        "\n",
        "```\n",
        "1. Função fib1()\n",
        "\n",
        "def fib1(n):\n",
        "  if n == 0 or n == 1:\n",
        "    return n\n",
        "  else:\n",
        "    return fib1(n - 1) + fib1(n - 2)\n",
        "\n",
        "Descrição:\n",
        "fib1() é uma implementação recursiva simples da sequência de Fibonacci.\n",
        "Para cada chamada de Fibonacci, faz duas chamadas recursivas adicionais, resultando em um número exponencial de chamadas.\n",
        "\n",
        "Desempenho:\n",
        "Esta função tem complexidade exponencial O(2n), o que a torna muito ineficiente para valores grandes de n.\n",
        "Esse desempenho ruim ocorre porque o cálculo é repetido para os mesmos valores de n múltiplas vezes, o que gera uma quantidade de chamadas recursivas redundantes.\n",
        "\n",
        "2. Função fib2()\n",
        "\n",
        "F = {0: 0, 1: 1}\n",
        "def fib2(n):\n",
        "  if n in F:\n",
        "    return F[n]\n",
        "  else:\n",
        "    F[n] = fib2(n - 1) + fib2(n - 2)\n",
        "    return F[n]\n",
        "\n",
        "Descrição:\n",
        "fib2() usa memoização para armazenar os valores já calculados em um dicionário global F.\n",
        "Ao calcular um valor, a função o armazena em F e o reutiliza em vez de recalcular.\n",
        "\n",
        "Desempenho:\n",
        "Esta função tem complexidade linear O(n) devido ao uso de memoização.\n",
        "Ela é significativamente mais rápida que fib1() porque evita chamadas recursivas redundantes.\n",
        "Para valores grandes de n, esta função será muito mais eficiente, já que cada número de Fibonacci é calculado apenas uma vez.\n",
        "\n",
        "3. Função fib3()\n",
        "\n",
        "def fib3(F, n):\n",
        "  if n <= 1:\n",
        "    return F[n]\n",
        "  else:\n",
        "    if F[n] < 0:\n",
        "      F[n] = fib3(F, n - 1) + fib3(F, n - 2)\n",
        "    return F[n]\n",
        "\n",
        "Descrição:\n",
        "fib3() também utiliza memoização, mas os valores já calculados são armazenados em uma lista passada como argumento F.\n",
        "Isso permite manter os valores calculados de Fibonacci em F e evita recalcular valores já obtidos.\n",
        "\n",
        "Desempenho:\n",
        "A complexidade é linear O(n), similar a fib2().\n",
        "Essa função é ligeiramente mais eficiente que fib2() para certos casos, pois acessa valores diretamente em uma lista em vez de um dicionário.\n",
        "\n",
        "4. Função fib4()\n",
        "def fib4(n):\n",
        "  if n <= 1:\n",
        "    return n\n",
        "  else:\n",
        "    a, b = 0, 1\n",
        "    for i in range(2, n + 1):\n",
        "      a, b = b, a + b\n",
        "    return b\n",
        "\n",
        "Descrição:\n",
        "fib4() implementa a sequência de Fibonacci de forma iterativa, utilizando apenas duas variáveis (a e b) para armazenar os dois últimos valores calculados.\n",
        "\n",
        "Desempenho:\n",
        "Esta função tem complexidade linear O(n), e é a mais eficiente entre todas, pois evita chamadas recursivas e armazena apenas os valores necessários para o cálculo.\n",
        "fib4() é ideal para valores grandes de n, pois a complexidade de espaço é constante O(1).\n",
        "\n",
        "Comparação dos Resultados\n",
        "Ao chamar print(fib1(N), fib2(N), fib3(F,N), fib4(N)), o programa imprime os valores de Fibonacci calculados por cada função para o valor N dado.\n",
        "Para valores pequenos de N, todas as funções devem retornar o mesmo resultado. No entanto, para valores maiores, a função fib1() pode demorar consideravelmente ou até travar devido ao número elevado de chamadas recursivas. As funções fib2(), fib3(), e fib4() são muito mais eficientes e adequadas para valores grandes, com fib4() sendo a opção mais rápida devido ao uso de um loop iterativo.\n",
        "\n",
        "Resumo de Eficiência\n",
        "Função\tComplexidade\tMétodo\tObservação\n",
        "fib1()\t𝑂(2𝑛) Recursiva simples\tIneficiente para valores grandes de n\n",
        "fib2()\tO(n)\tRecursiva com memoização (dicionário)\tBoa para valores grandes de n\n",
        "fib3()\tO(n)\tRecursiva com memoização (lista)\tLevemente mais eficiente que fib2()\n",
        "fib4()\tO(n)\tIterativa\tMais eficiente em tempo e espaço\n",
        "\n",
        "Para cálculos rápidos e eficientes da sequência de Fibonacci, especialmente para grandes valores de n, a função fib4() é a melhor escolha devido à sua implementação iterativa e uso constante de memória.\n",
        "```\n",
        "\n"
      ],
      "metadata": {
        "id": "Pskhb1viRg-e"
      }
    },
    {
      "cell_type": "markdown",
      "source": [
        "Q32-02\n",
        "\n",
        "Analisar o resultado de execução do seguinte código e compará-lo com o desempenho das funções bin1() e bin2().\n",
        "\n",
        "```\n",
        "def bin1(n, k):\n",
        "    if k == 0 or n == k:\n",
        "        return 1\n",
        "    else:\n",
        "        return bin1(n - 1, k - 1) + bin1(n - 1, k)\n",
        "\n",
        "def bin2(n, k):\n",
        "    B= [[0] * (i + 1) for i in range (n + 1)]\n",
        "    for i in range(n + 1):\n",
        "        for j in range(i + 1):\n",
        "            if j == 0 or j == i:\n",
        "               B[i][j] = 1\n",
        "            else:\n",
        "               B[i][j] = B[i - 1][j - 1] + B[i - 1][j]\n",
        "    return B[n][k]\n",
        "\n",
        "def bin3(n, k):\n",
        "    B = [0] * (n + 1)\n",
        "    for i in range(n + 1)\n",
        "        for j in range (n - 1, -1)\n",
        "            if j == 0 or j == i:\n",
        "                B[j] = 1\n",
        "            else:\n",
        "                B[j] = N[j] + B[j - 1]\n",
        "    return B[k]\n",
        "\n",
        "for i in range(10):\n",
        "    for j in range(i + 1):\n",
        "        print(bin1(i, j), end=' '))\n",
        "        print(bin2(i, j), end=' '))\n",
        "        print(bin3(i, j), end=' '))\n",
        "    print()\n",
        "```\n",
        "\n"
      ],
      "metadata": {
        "id": "9uyXCu3_SpUe"
      }
    },
    {
      "cell_type": "code",
      "source": [
        "def bin1(n, k):\n",
        "  if k == 0 or n == k:\n",
        "    return 1\n",
        "  else:\n",
        "    return bin1(n - 1, k - 1) + bin1(n - 1, k)\n",
        "\n",
        "def bin2(n, k):\n",
        "  B= [[0] * (i + 1) for i in range (n + 1)]\n",
        "  for i in range(n + 1):\n",
        "    for j in range(i + 1):\n",
        "      if j == 0 or j == i:\n",
        "        B[i][j] = 1\n",
        "      else:\n",
        "        B[i][j] = B[i - 1][j - 1] + B[i - 1][j]\n",
        "  return B[n][k]\n",
        "\n",
        "def bin3(n, k):\n",
        "    B = [0] * (n + 1)\n",
        "    B[0] = 1\n",
        "    for i in range(1, n + 1):\n",
        "        for j in range(i, 0, -1):\n",
        "            B[j] = B[j] + B[j - 1]\n",
        "    return B[k]\n",
        "\n",
        "for i in range(10):\n",
        "  for j in range(i + 1):\n",
        "    print(bin1(i, j), end=' ')\n",
        "    print(bin2(i, j), end=' ')\n",
        "    print(bin3(i, j), end=' ')\n",
        "  print()"
      ],
      "metadata": {
        "colab": {
          "base_uri": "https://localhost:8080/"
        },
        "id": "DxLS_yNdX8iI",
        "outputId": "91555662-f330-4cc1-bdf8-40b4a58fe4cf"
      },
      "execution_count": null,
      "outputs": [
        {
          "output_type": "stream",
          "name": "stdout",
          "text": [
            "1 \n",
            "1 1 \n",
            "1 2 1 \n",
            "1 3 3 1 \n",
            "1 4 6 4 1 \n",
            "1 5 10 10 5 1 \n",
            "1 6 15 20 15 6 1 \n",
            "1 7 21 35 35 21 7 1 \n",
            "1 8 28 56 70 56 28 8 1 \n",
            "1 9 36 84 126 126 84 36 9 1 \n"
          ]
        }
      ]
    },
    {
      "cell_type": "markdown",
      "source": [
        "```\n",
        "1. Função bin1\n",
        "def bin1(n, k):\n",
        "    if k == 0 or n == k:\n",
        "        return 1\n",
        "    else:\n",
        "        return bin1(n - 1, k - 1) + bin1(n - 1, k)\n",
        "\n",
        "Descrição:\n",
        "bin1 é uma função recursiva direta que calcula o coeficiente binomial com base na fórmula de recursão: C(n,k)=C(n−1,k−1)+C(n−1,k)\n",
        "O caso base ocorre quando k=0 ou k=n, pois C(n,0)=C(n,n)=1.\n",
        "\n",
        "Desempenho:\n",
        "bin1 é ineficiente devido à repetição de cálculos para os mesmos valores de n e k.\n",
        "A complexidade é exponencial, aproximadamente O(2 n), pois a função faz chamadas recursivas sobrepostas.\n",
        "Essa implementação é lenta e impraticável para valores maiores de n, devido ao alto número de chamadas recursivas.\n",
        "\n",
        "2. Função bin2\n",
        "def bin2(n, k):\n",
        "    B = [[0] * (i + 1) for i in range(n + 1)]\n",
        "    for i in range(n + 1):\n",
        "        for j in range(i + 1):\n",
        "            if j == 0 or j == i:\n",
        "                B[i][j] = 1\n",
        "            else:\n",
        "                B[i][j] = B[i - 1][j - 1] + B[i - 1][j]\n",
        "    return B[n][k]\n",
        "\n",
        "Descrição:\n",
        "bin2 usa uma abordagem de programação dinâmica e constrói o Triângulo de Pascal em uma matriz bidimensional B.\n",
        "A matriz B[i][j] armazena o valor de C(i,j) e é preenchida linha por linha, aproveitando os valores previamente calculados para evitar recomputação.\n",
        "\n",
        "Desempenho:\n",
        "A complexidade é quadrática O(n2) devido ao uso de dois laços aninhados.\n",
        "bin2 é muito mais eficiente que bin1 para valores maiores de n, pois cada valor é calculado apenas uma vez e armazenado na matriz.\n",
        "No entanto, o uso de uma matriz bidimensional ocupa O(n 2) espaço, o que pode ser excessivo para valores muito grandes de n.\n",
        "\n",
        "3. Função bin3\n",
        "def bin3(n, k):\n",
        "    B = [0] * (n + 1)\n",
        "    B[0] = 1\n",
        "    for i in range(1, n + 1):\n",
        "        for j in range(i, 0, -1):\n",
        "            B[j] = B[j] + B[j - 1]\n",
        "    return B[k]\n",
        "\n",
        "Descrição:\n",
        "bin3 também utiliza programação dinâmica, mas apenas uma lista unidimensional B para calcular o coeficiente binomial.\n",
        "A lista B é atualizada de trás para frente para evitar sobrescrita de valores ainda necessários no cálculo atual da linha do Triângulo de Pascal.\n",
        "\n",
        "Desempenho:\n",
        "A complexidade é linear em espaço O(n) e quadrática em tempo O(n2).bin3 é mais eficiente em termos de espaço que bin2, pois usa apenas uma lista de tamanhon+1.\n",
        "Essa abordagem torna bin3 a opção mais eficiente para calcular coeficientes binomiais em termos de desempenho e uso de memória.\n",
        "\n",
        "Comparação das Funções\n",
        "Para valores pequenos de 𝑛 e 𝑘, todas as funções devem retornar os mesmos resultados e em um tempo de execução similar. No entanto, para valores grandes de n, as diferenças de eficiência ficam mais evidentes:\n",
        "\n",
        "Função\tComplexidade de Tempo\tComplexidade de Espaço\tEficiência\n",
        "bin1\t𝑂(2𝑛) O(n) (recursão)\tMuito lenta para valores altos de n devido à recursão\n",
        "bin2\tO(n2)\tO(n2)\tRápida e eficiente para valores moderados de n, mas consome mais memória\n",
        "bin3\tO(n2)\tO(n)\tMais eficiente em espaço e adequada para valores grandes de n\n",
        "```\n",
        "\n"
      ],
      "metadata": {
        "id": "o2U9qVi-fYuB"
      }
    },
    {
      "cell_type": "markdown",
      "source": [
        "Q33-01\n",
        "\n",
        "Se você substituir cada letra por um número na letra seguinte, o número correspondente às cinco palavras é todo quadrado. Para cada palavra, a soma de cada dígito é também um número quadrado. Encontre o número representado por cada letra.\n",
        "\n",
        "![image.png](data:image/png;base64,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)"
      ],
      "metadata": {
        "id": "OAsSCt4vTRkK"
      }
    },
    {
      "cell_type": "code",
      "source": [
        "import itertools\n",
        "import math\n",
        "\n",
        "# Verifica se um número é um quadrado perfeito\n",
        "def is_square(num):\n",
        "    root = int(math.sqrt(num))\n",
        "    return root * root == num\n",
        "\n",
        "# Calcula o valor da palavra e verifica se é um quadrado perfeito e a soma dos dígitos também\n",
        "def check_word(word, mapping):\n",
        "    # Substitui as letras pelos números no mapeamento\n",
        "    num_str = ''.join(str(mapping[letter]) for letter in word)\n",
        "    num_value = int(num_str)\n",
        "\n",
        "    # Verifica se o valor da palavra é um quadrado perfeito\n",
        "    if not is_square(num_value):\n",
        "        return False\n",
        "\n",
        "    # Verifica se a soma dos dígitos é um quadrado perfeito\n",
        "    digit_sum = sum(int(digit) for digit in num_str)\n",
        "    return is_square(digit_sum)\n",
        "\n",
        "# Função principal de backtracking\n",
        "def solve():\n",
        "    # Frase e palavras a serem verificadas\n",
        "    phrase = \"A MERRY XMAS TO ALL\"\n",
        "    words = [\"A\", \"MERRY\", \"XMAS\", \"TO\", \"ALL\"]\n",
        "\n",
        "    # Letras únicas na frase\n",
        "    letters = sorted(set(phrase.replace(\" \", \"\")))\n",
        "\n",
        "    # Gera todas as permutações de números para as letras (0-9)\n",
        "    for perm in itertools.permutations(range(10), len(letters)):\n",
        "        mapping = dict(zip(letters, perm))\n",
        "\n",
        "        # Verifica se cada palavra atende às condições do problema\n",
        "        if all(check_word(word, mapping) for word in words):\n",
        "            return mapping  # Retorna o mapeamento encontrado\n",
        "\n",
        "    return None  # Retorna None se não encontrar solução\n",
        "\n",
        "# Executa o programa\n",
        "solution = solve()\n",
        "if solution:\n",
        "    print(\"Solução encontrada:\")\n",
        "    for letter, number in solution.items():\n",
        "        print(f\"{letter} -> {number}\")\n",
        "else:\n",
        "    print(\"Nenhuma solução encontrada.\")"
      ],
      "metadata": {
        "colab": {
          "base_uri": "https://localhost:8080/"
        },
        "id": "2qMpN3UpUUP8",
        "outputId": "46434ca3-89da-4b1e-bbcb-76bb699291b1"
      },
      "execution_count": 1,
      "outputs": [
        {
          "output_type": "stream",
          "name": "stdout",
          "text": [
            "Solução encontrada:\n",
            "A -> 9\n",
            "E -> 4\n",
            "L -> 0\n",
            "M -> 3\n",
            "O -> 1\n",
            "R -> 2\n",
            "S -> 6\n",
            "T -> 8\n",
            "X -> 7\n",
            "Y -> 5\n"
          ]
        }
      ]
    },
    {
      "cell_type": "markdown",
      "source": [
        "\n",
        "```\n",
        "A = 9\n",
        "Soma = 9 -> 3\n",
        "\n",
        "M = 3\n",
        "E = 4\n",
        "R = 2\n",
        "R = 2\n",
        "Y = 5\n",
        "Soma = 16 -> 4\n",
        "\n",
        "X = 7\n",
        "M = 3\n",
        "A = 9\n",
        "S = 6\n",
        "Soma = 25 -> 5\n",
        "\n",
        "T = 8\n",
        "O = 1\n",
        "Soma = 9 -> 3\n",
        "\n",
        "A = 9\n",
        "L = 0\n",
        "L = 0\n",
        "\n",
        "Soma = 9 -> 3\n",
        "\n",
        "```"
      ],
      "metadata": {
        "id": "f8ZhUrwSWVJm"
      }
    }
  ]
}