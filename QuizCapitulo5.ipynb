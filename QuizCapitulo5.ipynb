{
  "nbformat": 4,
  "nbformat_minor": 0,
  "metadata": {
    "colab": {
      "provenance": []
    },
    "kernelspec": {
      "name": "python3",
      "display_name": "Python 3"
    },
    "language_info": {
      "name": "python"
    }
  },
  "cells": [
    {
      "cell_type": "markdown",
      "source": [
        "Q27-01\n",
        "\n",
        "Quantas comparações foram executadas no processo de ordenação abaixo? (Linha em negrito)\n",
        "\n",
        "\n",
        "\n",
        "```\n",
        "def bubblesort(S):\n",
        "    n = len(S)\n",
        "    for i in range(n):\n",
        "        print(S)\n",
        "        for j in range(n-1):\n",
        "            if S[j] > S[j + 1]:\n",
        "                S[j], S[j + 1] = S[j + 1], S[j]\n",
        "\n",
        "S = [50, 30, 40, 10, 20]\n",
        "bubblesort(S)\n",
        "print(S)\n",
        "[50, 30, 40, 10, 20]\n",
        "[30, 40, 10, 20, 50]\n",
        "[30, 10, 20, 40, 50]\n",
        "[10, 20, 30, 40, 50]\n",
        "[10, 20, 30, 40, 50]\n",
        "[10, 20, 30, 40, 50]\n",
        "```\n",
        "\n"
      ],
      "metadata": {
        "id": "9agr4VN3sHkt"
      }
    },
    {
      "cell_type": "code",
      "execution_count": 8,
      "metadata": {
        "colab": {
          "base_uri": "https://localhost:8080/"
        },
        "id": "JdCaSGR_r5iH",
        "outputId": "01b31039-421f-4f8e-d990-53735c20081d"
      },
      "outputs": [
        {
          "output_type": "stream",
          "name": "stdout",
          "text": [
            "[50, 30, 40, 10, 20]\n",
            "[30, 40, 10, 20, 50]\n",
            "[30, 10, 20, 40, 50]\n",
            "[10, 20, 30, 40, 50]\n",
            "[10, 20, 30, 40, 50]\n",
            "20\n",
            "[10, 20, 30, 40, 50]\n"
          ]
        }
      ],
      "source": [
        "def bubblesort(S):\n",
        "    n = len(S)\n",
        "    comparacao = 0\n",
        "    for i in range(n):\n",
        "        print(S)\n",
        "        for j in range(n-1):\n",
        "            if S[j] > S[j + 1]:\n",
        "                S[j], S[j + 1] = S[j + 1], S[j]\n",
        "            comparacao += 1\n",
        "    print(comparacao)\n",
        "\n",
        "S = [50, 30, 40, 10, 20]\n",
        "bubblesort(S)\n",
        "print(S)"
      ]
    },
    {
      "cell_type": "markdown",
      "source": [
        "Para calcular a quantidade de comparações no algoritmo de ordenação bubblesort, vamos analisar o código fornecido.\n",
        "\n",
        "Análise do Código\n",
        "A função bubblesort recebe uma lista S e calcula seu comprimento, armazenando-o em n.\n",
        "\n",
        "O código realiza duas iterações aninhadas:\n",
        "\n",
        "A primeira iteração (for i in range(n)) controla o número de passagens pela lista.\n",
        "\n",
        "A segunda iteração (for j in range(n-1)) percorre a lista e realiza as comparações e trocas necessárias para mover os maiores elementos para o final.\n",
        "\n",
        "Quantidade de Comparações\n",
        "\n",
        "No caso do algoritmo bubblesort, para cada valor de i, o loop interno for j in range(n-1) realiza n−1 comparações.\n",
        "\n",
        "Com n = 5, o loop externo (i) itera 5 vezes.\n",
        "Para cada valor de i, o loop interno (j) faz n - 1 = 4 comparações.\n",
        "Logo, o total de comparações será:\n",
        "\n",
        "5×4=20\n",
        "\n",
        "Conclusão:\n",
        "\n",
        "O número total de comparações executadas no processo de ordenação é 20."
      ],
      "metadata": {
        "id": "tLDo6CGRuimO"
      }
    },
    {
      "cell_type": "markdown",
      "source": [
        "Q27-02\n",
        "\n",
        "Quantas comparações foram executadas no processo de ordenação abaixo? (Código em negrito)\n",
        "\n",
        "\n",
        "\n",
        "```\n",
        "def insertionsort2(S):\n",
        "    n = len(S)\n",
        "    for i in range(1, n):\n",
        "        print(S)\n",
        "        x = S[i]\n",
        "        j = i - 1\n",
        "        while j >= 0 and S[j] > x:\n",
        "            S[j + 1] = S[j]\n",
        "            j -= 1\n",
        "        S[j + 1] = x\n",
        "S = [50, 30, 40, 10, 20]\n",
        "insertionsort2(S)\n",
        "print(S)\n",
        "[50, 30, 40, 10, 20]\n",
        "[30, 50, 40, 10, 20]\n",
        "[30, 40, 50, 10, 20]\n",
        "[10, 30, 40, 50, 20]\n",
        "[10, 20, 30, 40, 50]\n",
        "```\n",
        "\n"
      ],
      "metadata": {
        "id": "eGYB-ILyvTqt"
      }
    },
    {
      "cell_type": "code",
      "source": [
        "def insertionsort2(S):\n",
        "    n = len(S)\n",
        "    for i in range(1, n):\n",
        "        print(S)\n",
        "        x = S[i]\n",
        "        j = i - 1\n",
        "        while j >= 0 and S[j] > x:\n",
        "            S[j + 1] = S[j]\n",
        "            j -= 1\n",
        "        S[j + 1] = x\n",
        "\n",
        "S = [50, 30, 40, 10, 20]\n",
        "insertionsort2(S)\n",
        "print(S)"
      ],
      "metadata": {
        "colab": {
          "base_uri": "https://localhost:8080/"
        },
        "id": "PSvDNxgivfs9",
        "outputId": "9a9030bf-e2af-4b81-f4ff-f7898856a436"
      },
      "execution_count": 16,
      "outputs": [
        {
          "output_type": "stream",
          "name": "stdout",
          "text": [
            "[50, 30, 40, 10, 20]\n",
            "[30, 50, 40, 10, 20]\n",
            "[30, 40, 50, 10, 20]\n",
            "[10, 30, 40, 50, 20]\n",
            "[10, 20, 30, 40, 50]\n"
          ]
        }
      ]
    },
    {
      "cell_type": "markdown",
      "source": [
        "```\n",
        "Análise da Quantidade de Comparações\n",
        "No insertion sort, a quantidade de comparações depende da ordenação inicial da lista:\n",
        "\n",
        "Cada iteração de i faz com que o valor S[i] seja comparado com os valores à sua esquerda até que S[i] encontre sua posição correta.\n",
        "Vamos calcular o número de comparações passo a passo para a lista [50, 30, 40, 10, 20].\n",
        "\n",
        "Primeira iteração (i = 1):\n",
        "Compara 30 com 50. (1 comparação)\n",
        "Total até agora: 1 comparação\n",
        "\n",
        "Segunda iteração (i = 2):\n",
        "Compara 40 com 50. (1 comparação)\n",
        "Compara 40 com 30. (1 comparação)\n",
        "Total até agora: 3 comparações\n",
        "\n",
        "Terceira iteração (i = 3):\n",
        "Compara 10 com 50. (1 comparação)\n",
        "Compara 10 com 40. (1 comparação)\n",
        "Compara 10 com 30. (1 comparação)\n",
        "Total até agora: 6 comparações\n",
        "\n",
        "Quarta iteração (i = 4):\n",
        "Compara 20 com 50. (1 comparação)\n",
        "Compara 20 com 40. (1 comparação)\n",
        "Compara 20 com 30. (1 comparação)\n",
        "Compara 20 com 10 (não é maior, então para aqui). (1 comparação)\n",
        "Total final: 10 comparações\n",
        "\n",
        "Conclusão:\n",
        "O número total de comparações executadas no processo de ordenação é 10.\n",
        "```\n",
        "\n"
      ],
      "metadata": {
        "id": "TBpo1iAExGan"
      }
    },
    {
      "cell_type": "markdown",
      "source": [
        "Q28-01\n",
        "\n",
        "Quantas vezes a função merge2() foi executada no processo de ordenação da fusão abaixo?\n",
        "\n",
        "```\n",
        "def merge2(S, low, mid, high):\n",
        "    R = []\n",
        "    i, j = low, mid + 1\n",
        "    while i <= mid and j <= high:\n",
        "        if S[i] < S[j]:\n",
        "            R.append(S[i])\n",
        "            i += 1\n",
        "        else:\n",
        "            R.append(S[j])\n",
        "            j += 1\n",
        "    if i > mid:\n",
        "        for k in range(j, high + 1):\n",
        "            R.append(S[k])  # Corrigido para S[k]\n",
        "    else:\n",
        "        for k in range(i, mid + 1):\n",
        "            R.append(S[k])  # Corrigido para S[k]\n",
        "    for k in range(len(R)):\n",
        "        S[low + k] = R[k]\n",
        "\n",
        "def mergesort2(S, low, high):\n",
        "    if low < high:\n",
        "        print(S)\n",
        "        mid = (low + high) // 2\n",
        "        mergesort2(S, low, mid)\n",
        "        mergesort2(S, mid + 1, high)\n",
        "        merge2(S, low, mid, high)\n",
        "\n",
        "S = [6, 2, 11, 7, 5, 4, 8, 16, 10, 3]\n",
        "mergesort2(S, 0, len(S) - 1)\n",
        "print(S)\n",
        "```\n",
        "\n",
        "\n"
      ],
      "metadata": {
        "id": "WyyyLB2Txkxm"
      }
    },
    {
      "cell_type": "code",
      "source": [
        "def merge2(S, low, mid, high):\n",
        "    R = []\n",
        "    i, j = low, mid + 1\n",
        "    while i <= mid and j <= high:\n",
        "        if S[i] < S[j]:\n",
        "            R.append(S[i])\n",
        "            i += 1\n",
        "        else:\n",
        "            R.append(S[j])\n",
        "            j += 1\n",
        "    if i > mid:\n",
        "        for k in range(j, high + 1):\n",
        "            R.append(S[k])  # Corrigido para S[k]\n",
        "    else:\n",
        "        for k in range(i, mid + 1):\n",
        "            R.append(S[k])  # Corrigido para S[k]\n",
        "    for k in range(len(R)):\n",
        "        S[low + k] = R[k]\n",
        "\n",
        "def mergesort2(S, low, high):\n",
        "    if low < high:\n",
        "        print(S)\n",
        "        mid = (low + high) // 2\n",
        "        mergesort2(S, low, mid)\n",
        "        mergesort2(S, mid + 1, high)\n",
        "        merge2(S, low, mid, high)\n",
        "\n",
        "S = [6, 2, 11, 7, 5, 4, 8, 16, 10, 3]\n",
        "mergesort2(S, 0, len(S) - 1)\n",
        "print(S)"
      ],
      "metadata": {
        "colab": {
          "base_uri": "https://localhost:8080/"
        },
        "id": "DWd7GFcWxyAd",
        "outputId": "bd9fa477-19a5-412a-c16c-a3d2c2c9085d"
      },
      "execution_count": 22,
      "outputs": [
        {
          "output_type": "stream",
          "name": "stdout",
          "text": [
            "[6, 2, 11, 7, 5, 4, 8, 16, 10, 3]\n",
            "[6, 2, 11, 7, 5, 4, 8, 16, 10, 3]\n",
            "[6, 2, 11, 7, 5, 4, 8, 16, 10, 3]\n",
            "[6, 2, 11, 7, 5, 4, 8, 16, 10, 3]\n",
            "[2, 6, 11, 7, 5, 4, 8, 16, 10, 3]\n",
            "[2, 5, 6, 7, 11, 4, 8, 16, 10, 3]\n",
            "[2, 5, 6, 7, 11, 4, 8, 16, 10, 3]\n",
            "[2, 5, 6, 7, 11, 4, 8, 16, 10, 3]\n",
            "[2, 5, 6, 7, 11, 4, 8, 16, 10, 3]\n",
            "[2, 3, 4, 5, 6, 7, 8, 10, 11, 16]\n"
          ]
        }
      ]
    },
    {
      "cell_type": "markdown",
      "source": [
        "```\n",
        "Explicação\n",
        "O merge sort é um algoritmo de divisão e conquista que funciona da seguinte forma:\n",
        "Divide recursivamente a lista em duas metades até que cada sublista tenha apenas um elemento.\n",
        "Conquista ao combinar essas sublistas já ordenadas, utilizando a função merge2().\n",
        "Para um vetor de tamanho n, o número de chamadas à função merge2() corresponde ao número de vezes que as listas são combinadas.\n",
        "Quantidade de Chamadas para merge2()\n",
        "A cada nível de divisão, a lista é particionada em duas metades. No caso de uma lista de 10 elementos, o número de níveis de divisão será aproximadamente\n",
        "log2(10) (ou seja, cerca de 4 divisões).\n",
        "No nível mais alto da recursão, há 1 chamada para merge2().\n",
        "No próximo nível, há 2 chamadas para merge2().\n",
        "No nível seguinte, há 4 chamadas, e assim por diante.\n",
        "Assim, o total de chamadas para merge2() em uma lista de 10 elementos é aproximadamente:\n",
        "1+2+4+3=9\n",
        "Resposta:\n",
        "A função merge2() foi executada 9 vezes no processo de ordenação.\n",
        "```\n",
        "\n"
      ],
      "metadata": {
        "id": "TwQpFgHDzeC3"
      }
    },
    {
      "cell_type": "markdown",
      "source": [
        "Q29-01\n",
        "\n",
        "Dada a lista abaixo, escreva a saída após executar a função partition1().\n",
        "\n",
        "```\n",
        "def partition1(S, low, high):\n",
        "  pivot = S[low]\n",
        "  left, right = low + 1, high\n",
        "  while left < right:\n",
        "    print(S)\n",
        "    while left <= right and S[left] <= pivot:\n",
        "      left += 1\n",
        "    while left <= right and S[right] >= pivot:\n",
        "      right -= 1\n",
        "    if left < right:\n",
        "      S[left], S[right] = S[right], S[left]\n",
        "  pivotpoint = right\n",
        "  S[low], S[pivotpoint] = S[pivotpoint], S[low]\n",
        "  return pivotpoint\n",
        "\n",
        "S = [15, 10, 12, 20, 25, 13, 22]\n",
        "partition1(S, 0, len(S) - 1)\n",
        "print(S)\n",
        "\n",
        "[15, 10, 12, 20, 25, 13, 22] 0 6 pivot = 15\n",
        "[13, 10, 12, 15, 25, 20, 22]\n",
        "```\n",
        "\n"
      ],
      "metadata": {
        "id": "8GsOKstF0KFn"
      }
    },
    {
      "cell_type": "code",
      "source": [
        "def quicksort1(S, low, high):\n",
        "  if low < high:\n",
        "    print(S)\n",
        "    pivotpoint = partition1(S, low, high)\n",
        "    quicksort1(S, low, pivotpoint - 1)\n",
        "    quicksort1(S, pivotpoint + 1, high)\n",
        "\n",
        "def partition1(S, low, high):\n",
        "  pivot = S[low]\n",
        "  left, right = low + 1, high\n",
        "  while left < right:\n",
        "    print(S)\n",
        "    while left <= right and S[left] <= pivot:\n",
        "      left += 1\n",
        "    while left <= right and S[right] >= pivot:\n",
        "      right -= 1\n",
        "    if left < right:\n",
        "      S[left], S[right] = S[right], S[left]\n",
        "  pivotpoint = right\n",
        "  S[low], S[pivotpoint] = S[pivotpoint], S[low]\n",
        "  return pivotpoint\n",
        "\n",
        "S = [15, 10, 12, 20, 25, 13, 22]\n",
        "partition1(S, 0, len(S) - 1)\n",
        "print(S)"
      ],
      "metadata": {
        "colab": {
          "base_uri": "https://localhost:8080/"
        },
        "id": "mKH3uzEY0lyG",
        "outputId": "0e7cc07d-b3b7-43aa-ae14-4797324e23a3"
      },
      "execution_count": 31,
      "outputs": [
        {
          "output_type": "stream",
          "name": "stdout",
          "text": [
            "[15, 10, 12, 20, 25, 13, 22]\n",
            "[15, 10, 12, 13, 25, 20, 22]\n",
            "[13, 10, 12, 15, 25, 20, 22]\n"
          ]
        }
      ]
    },
    {
      "cell_type": "markdown",
      "source": [
        "\n",
        "```\n",
        "Explicação do Algoritmo partition1()\n",
        "A função partition1() executa a partição de um algoritmo de ordenação rápida (quicksort). O processo é o seguinte:\n",
        "\n",
        "O primeiro elemento da lista é escolhido como o pivô.\n",
        "O objetivo é mover os elementos menores que o pivô para a esquerda e os maiores para a direita.\n",
        "A função termina com o pivô no ponto correto de ordenação, retornando sua posição final.\n",
        "Passo a Passo da Execução\n",
        "Dada a lista S = [15, 10, 12, 20, 25, 13, 22], com low = 0 e high = 6:\n",
        "\n",
        "Definir o pivô:\n",
        "pivot = S[low] = 15\n",
        "left = 1, right = 6\n",
        "\n",
        "Primeiro while externo:\n",
        "Lista atual: [15, 10, 12, 20, 25, 13, 22]\n",
        "Sub-while (esquerda): S[left] = 10 e S[left] = 12 (ambos menores que o pivô), então left é incrementado para 3.\n",
        "Sub-while (direita): S[right] = 22, S[right] = 25, e S[right] = 20 (todos maiores que o pivô), então right é decrementado para 3.\n",
        "\n",
        "Troca: Não ocorre troca aqui, pois left não é menor que right (eles são iguais).\n",
        "\n",
        "Finalização da Partição:\n",
        "Posicionamento do pivô: pivotpoint = right = 3\n",
        "Troca S[low] com S[pivotpoint]: [13, 10, 12, 15, 25, 20, 22]\n",
        "```\n",
        "\n"
      ],
      "metadata": {
        "id": "N8ZhXnQQ40wx"
      }
    }
  ]
}