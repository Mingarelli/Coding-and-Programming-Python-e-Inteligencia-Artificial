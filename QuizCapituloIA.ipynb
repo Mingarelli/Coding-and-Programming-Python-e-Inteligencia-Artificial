{
  "nbformat": 4,
  "nbformat_minor": 0,
  "metadata": {
    "colab": {
      "provenance": []
    },
    "kernelspec": {
      "name": "python3",
      "display_name": "Python 3"
    },
    "language_info": {
      "name": "python"
    }
  },
  "cells": [
    {
      "cell_type": "markdown",
      "source": [
        "Q1\n",
        "\n",
        "```\n",
        "Qual das seguintes afirmações sobre mineração de texto está incorreta?\n",
        "\n",
        "Você pode conhecer a reação de um grupo específico.\n",
        "Informações sobre setor de vendas podem ser obtidas.\n",
        "Estratégias competitivas podem ser estabelecidas através do monitoramento de outras marcas.\n",
        "O mesmo método pode ser aplicado em vários idiomas.\n",
        "\n",
        "Resposta Correta:\n",
        "\n",
        "O mesmo método pode ser aplicado em vários idiomas.\n",
        "\n",
        "```\n",
        "\n"
      ],
      "metadata": {
        "id": "8OC2d1PRg0j0"
      }
    },
    {
      "cell_type": "markdown",
      "source": [
        "Q2\n",
        "\n",
        "```\n",
        "Qual dos seguintes aspectos não é verdadeiro sobre o uso de redes sociais?\n",
        "\n",
        "É possível saber de quantos grupos a rede é composta.\n",
        "\n",
        "É possível conhecer clientes influentes.\n",
        "\n",
        "É possível conhecer a mudança ao longo do tempo.\n",
        "\n",
        "É possível saber se os clientes irão embora na próxima vez.\n",
        "\n",
        "Resposta Correta:\n",
        "\n",
        "É possível saber se os clientes irão embora na próxima vez.\n",
        "\n",
        "```\n",
        "\n"
      ],
      "metadata": {
        "id": "z-9iCqmXiYtG"
      }
    },
    {
      "cell_type": "markdown",
      "source": [
        "Q3 - Qual o termo que separa a origem de uma palavra cuja forma foi modificada para extrair a palavra que é objeto de análise morfológica?\n",
        "\n",
        "O radical é a parte invariável da palavra que contém o núcleo de seu significado, enquanto os afixos (prefixos e sufixos) são elementos que podem ser adicionados para modificar ou expandir esse significado. Na análise morfológica, separar o radical de outros elementos ajuda a compreender a estrutura e a origem da palavra."
      ],
      "metadata": {
        "id": "yPxzCMZKjZdD"
      }
    },
    {
      "cell_type": "markdown",
      "source": [
        "Q4 - Qual o termo representa um conjunto de materiais que pode mostrar os aspectos essenciais da linguagem como material de pesquisa necessário em cada campo da pesquisa linguística?\n",
        "\n",
        "Um corpus é um conjunto estruturado de textos ou dados linguísticos coletados para análise e estudo. Ele pode incluir falas transcritas, textos escritos, interações digitais e outros materiais relevantes. O corpus é essencial em várias áreas da pesquisa linguística, como linguística de corpus, análise de discurso, processamento de linguagem natural (PLN) e estudos de variação linguística."
      ],
      "metadata": {
        "id": "WKA8f7EWnTU0"
      }
    },
    {
      "cell_type": "markdown",
      "source": [
        "Q5 - Explique sobre TF (Term Frequency), e escreva como calcular a fórmula de TF.\n",
        "\n",
        "```\n",
        "TF (Term Frequency) é uma métrica usada na mineração de texto e no processamento de linguagem\n",
        "natural (PLN) para medir a frequência com que um termo específico aparece em um documento.\n",
        "É uma parte fundamental do método TF-IDF (Term Frequency-Inverse Document Frequency), usado\n",
        "para avaliar a importância de um termo em relação a um conjunto de documentos.\n",
        "\n",
        "Conceito\n",
        "O TF calcula a frequência relativa de um termo em um único documento em relação ao número\n",
        "total de termos no documento. Ele ajuda a identificar a relevância de palavras dentro do\n",
        "documento, sendo particularmente útil para normalizar documentos de tamanhos diferentes.\n",
        "\n",
        "Fórmula\n",
        "A fórmula para calcular o TF de um termo t em um documento d é:\n",
        "\n",
        "  𝑇𝐹(𝑡,𝑑)=𝑓𝑡,𝑑 / ∑𝑘𝑓𝑘,𝑑\n",
        "\n",
        "Explicação dos termos:\n",
        "𝑓𝑡,𝑑 : O número de vezes que o termo t aparece no documento d.\n",
        "∑𝑘𝑓𝑘,𝑑 : O número total de termos no documento d.\n",
        "\n",
        "Exemplo Prático:\n",
        "Considere o documento:\n",
        "\n",
        "\"O gato dorme no sofá. O cachorro também dorme.\"\n",
        "\n",
        "1. Tokenização do texto: [\"O\", \"gato\", \"dorme\", \"no\", \"sofá\", \"O\", \"cachorro\", \"também\", \"dorme\"]\n",
        "2. Frequência de cada termo:\n",
        "  . \"dorme\" aparece 2 vezes.\n",
        "  . Total de palavras: 9.\n",
        "3. Cálculo do TF para \"dorme\":\n",
        "\n",
        "  𝑇𝐹(\"𝑑𝑜𝑟𝑚𝑒\") = 2/9 ≈ 0.222\n",
        "\n",
        "O TF é usado junto ao IDF (Inverse Document Frequency) para criar o peso TF-IDF, que\n",
        "avalia a importância de um termo em um corpus inteiro, considerando tanto sua frequência\n",
        "no documento quanto sua raridade no conjunto de documentos.\n",
        "\n",
        "```\n",
        "\n"
      ],
      "metadata": {
        "id": "dtuqK0MgngHs"
      }
    }
  ]
}